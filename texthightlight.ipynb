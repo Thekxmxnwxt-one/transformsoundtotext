{
  "nbformat": 4,
  "nbformat_minor": 0,
  "metadata": {
    "colab": {
      "provenance": []
    },
    "kernelspec": {
      "name": "python3",
      "display_name": "Python 3"
    },
    "language_info": {
      "name": "python"
    }
  },
  "cells": [
    {
      "cell_type": "code",
      "execution_count": null,
      "metadata": {
        "colab": {
          "base_uri": "https://localhost:8080/"
        },
        "id": "vhsIjv5EmRPU",
        "outputId": "b58e1839-2508-40da-a29d-d21a3e28426f"
      },
      "outputs": [
        {
          "output_type": "stream",
          "name": "stdout",
          "text": [
            "Requirement already satisfied: nltk in /usr/local/lib/python3.10/dist-packages (3.9.1)\n",
            "Requirement already satisfied: click in /usr/local/lib/python3.10/dist-packages (from nltk) (8.1.7)\n",
            "Requirement already satisfied: joblib in /usr/local/lib/python3.10/dist-packages (from nltk) (1.4.2)\n",
            "Requirement already satisfied: regex>=2021.8.3 in /usr/local/lib/python3.10/dist-packages (from nltk) (2024.9.11)\n",
            "Requirement already satisfied: tqdm in /usr/local/lib/python3.10/dist-packages (from nltk) (4.66.6)\n"
          ]
        }
      ],
      "source": [
        "pip install nltk"
      ]
    },
    {
      "cell_type": "code",
      "source": [
        "pip install python-docx"
      ],
      "metadata": {
        "colab": {
          "base_uri": "https://localhost:8080/"
        },
        "id": "H6IoB457mZ2l",
        "outputId": "ddcc694f-0d33-46c3-97b1-51a700881251"
      },
      "execution_count": null,
      "outputs": [
        {
          "output_type": "stream",
          "name": "stdout",
          "text": [
            "Requirement already satisfied: python-docx in /usr/local/lib/python3.10/dist-packages (1.1.2)\n",
            "Requirement already satisfied: lxml>=3.1.0 in /usr/local/lib/python3.10/dist-packages (from python-docx) (5.3.0)\n",
            "Requirement already satisfied: typing-extensions>=4.9.0 in /usr/local/lib/python3.10/dist-packages (from python-docx) (4.12.2)\n"
          ]
        }
      ]
    },
    {
      "cell_type": "code",
      "source": [
        "pip install transformers sentencepiece"
      ],
      "metadata": {
        "colab": {
          "base_uri": "https://localhost:8080/"
        },
        "id": "iWsVcWBymboh",
        "outputId": "abbeade7-2d4d-4b30-c9b4-db21c2ca5041"
      },
      "execution_count": null,
      "outputs": [
        {
          "output_type": "stream",
          "name": "stdout",
          "text": [
            "Requirement already satisfied: transformers in /usr/local/lib/python3.10/dist-packages (4.46.2)\n",
            "Requirement already satisfied: sentencepiece in /usr/local/lib/python3.10/dist-packages (0.2.0)\n",
            "Requirement already satisfied: filelock in /usr/local/lib/python3.10/dist-packages (from transformers) (3.16.1)\n",
            "Requirement already satisfied: huggingface-hub<1.0,>=0.23.2 in /usr/local/lib/python3.10/dist-packages (from transformers) (0.26.2)\n",
            "Requirement already satisfied: numpy>=1.17 in /usr/local/lib/python3.10/dist-packages (from transformers) (1.26.4)\n",
            "Requirement already satisfied: packaging>=20.0 in /usr/local/lib/python3.10/dist-packages (from transformers) (24.2)\n",
            "Requirement already satisfied: pyyaml>=5.1 in /usr/local/lib/python3.10/dist-packages (from transformers) (6.0.2)\n",
            "Requirement already satisfied: regex!=2019.12.17 in /usr/local/lib/python3.10/dist-packages (from transformers) (2024.9.11)\n",
            "Requirement already satisfied: requests in /usr/local/lib/python3.10/dist-packages (from transformers) (2.32.3)\n",
            "Requirement already satisfied: safetensors>=0.4.1 in /usr/local/lib/python3.10/dist-packages (from transformers) (0.4.5)\n",
            "Requirement already satisfied: tokenizers<0.21,>=0.20 in /usr/local/lib/python3.10/dist-packages (from transformers) (0.20.3)\n",
            "Requirement already satisfied: tqdm>=4.27 in /usr/local/lib/python3.10/dist-packages (from transformers) (4.66.6)\n",
            "Requirement already satisfied: fsspec>=2023.5.0 in /usr/local/lib/python3.10/dist-packages (from huggingface-hub<1.0,>=0.23.2->transformers) (2024.10.0)\n",
            "Requirement already satisfied: typing-extensions>=3.7.4.3 in /usr/local/lib/python3.10/dist-packages (from huggingface-hub<1.0,>=0.23.2->transformers) (4.12.2)\n",
            "Requirement already satisfied: charset-normalizer<4,>=2 in /usr/local/lib/python3.10/dist-packages (from requests->transformers) (3.4.0)\n",
            "Requirement already satisfied: idna<4,>=2.5 in /usr/local/lib/python3.10/dist-packages (from requests->transformers) (3.10)\n",
            "Requirement already satisfied: urllib3<3,>=1.21.1 in /usr/local/lib/python3.10/dist-packages (from requests->transformers) (2.2.3)\n",
            "Requirement already satisfied: certifi>=2017.4.17 in /usr/local/lib/python3.10/dist-packages (from requests->transformers) (2024.8.30)\n"
          ]
        }
      ]
    },
    {
      "cell_type": "code",
      "source": [
        "pip install rouge"
      ],
      "metadata": {
        "colab": {
          "base_uri": "https://localhost:8080/"
        },
        "id": "jV48dcglmeYx",
        "outputId": "0a435fb9-873c-4180-aeb7-b16e9ec74d83"
      },
      "execution_count": null,
      "outputs": [
        {
          "output_type": "stream",
          "name": "stdout",
          "text": [
            "Requirement already satisfied: rouge in /usr/local/lib/python3.10/dist-packages (1.0.1)\n",
            "Requirement already satisfied: six in /usr/local/lib/python3.10/dist-packages (from rouge) (1.16.0)\n"
          ]
        }
      ]
    },
    {
      "cell_type": "code",
      "source": [
        "pip install pythainlp"
      ],
      "metadata": {
        "colab": {
          "base_uri": "https://localhost:8080/"
        },
        "id": "Mh_e64_Vmebl",
        "outputId": "1b802035-1931-4b93-d8ff-144d8aad9b3e"
      },
      "execution_count": null,
      "outputs": [
        {
          "output_type": "stream",
          "name": "stdout",
          "text": [
            "Requirement already satisfied: pythainlp in /usr/local/lib/python3.10/dist-packages (5.0.4)\n",
            "Requirement already satisfied: requests>=2.22.0 in /usr/local/lib/python3.10/dist-packages (from pythainlp) (2.32.3)\n",
            "Requirement already satisfied: charset-normalizer<4,>=2 in /usr/local/lib/python3.10/dist-packages (from requests>=2.22.0->pythainlp) (3.4.0)\n",
            "Requirement already satisfied: idna<4,>=2.5 in /usr/local/lib/python3.10/dist-packages (from requests>=2.22.0->pythainlp) (3.10)\n",
            "Requirement already satisfied: urllib3<3,>=1.21.1 in /usr/local/lib/python3.10/dist-packages (from requests>=2.22.0->pythainlp) (2.2.3)\n",
            "Requirement already satisfied: certifi>=2017.4.17 in /usr/local/lib/python3.10/dist-packages (from requests>=2.22.0->pythainlp) (2024.8.30)\n"
          ]
        }
      ]
    },
    {
      "cell_type": "code",
      "source": [
        "import nltk\n",
        "import numpy as np\n",
        "import networkx as nx\n",
        "import pandas as pd\n",
        "import docx\n",
        "from docx.enum.text import WD_COLOR_INDEX\n",
        "from nltk.cluster.util import cosine_distance\n",
        "from transformers import AutoTokenizer, AutoModel\n",
        "from pythainlp.tokenize import word_tokenize\n",
        "import os\n",
        "from rouge import Rouge\n",
        "import sys\n",
        "sys.setrecursionlimit(10000)  # หรือปรับตัวเลขตามที่เหมาะสม"
      ],
      "metadata": {
        "id": "mMjO3CsJmeeY"
      },
      "execution_count": null,
      "outputs": []
    },
    {
      "cell_type": "code",
      "source": [
        "model_name = \"airesearch/wangchanberta-base-att-spm-uncased\"\n",
        "model = AutoModel.from_pretrained(model_name)"
      ],
      "metadata": {
        "colab": {
          "base_uri": "https://localhost:8080/"
        },
        "id": "HeFvM6wkmsds",
        "outputId": "dc1b9b6b-63c1-467f-f5a7-f54e450cb53d"
      },
      "execution_count": null,
      "outputs": [
        {
          "output_type": "stream",
          "name": "stderr",
          "text": [
            "/usr/local/lib/python3.10/dist-packages/huggingface_hub/utils/_auth.py:94: UserWarning: \n",
            "The secret `HF_TOKEN` does not exist in your Colab secrets.\n",
            "To authenticate with the Hugging Face Hub, create a token in your settings tab (https://huggingface.co/settings/tokens), set it as secret in your Google Colab and restart your session.\n",
            "You will be able to reuse this secret in all of your notebooks.\n",
            "Please note that authentication is recommended but still optional to access public models or datasets.\n",
            "  warnings.warn(\n"
          ]
        }
      ]
    },
    {
      "cell_type": "code",
      "source": [
        "tokenizer = AutoTokenizer.from_pretrained(model_name)"
      ],
      "metadata": {
        "id": "w51sn0tumshR"
      },
      "execution_count": null,
      "outputs": []
    },
    {
      "cell_type": "code",
      "source": [
        "def highlight_sentences(text, sum_list):\n",
        "    doc = docx.Document()\n",
        "    doc.add_heading('Summarized Text', 0)\n",
        "    para = doc.add_paragraph('')\n",
        "    sentences = text.split('\\n')\n",
        "    for st in sentences:\n",
        "        if any(keyword in st for keyword in sum_list):\n",
        "            para.add_run(st + '\\n').font.highlight_color = WD_COLOR_INDEX.YELLOW\n",
        "        else:\n",
        "            para.add_run(st + '\\n')\n",
        "    return doc"
      ],
      "metadata": {
        "id": "yFSqt9fKmsku"
      },
      "execution_count": null,
      "outputs": []
    },
    {
      "cell_type": "code",
      "source": [
        "def process_file(file_name):\n",
        "    try:\n",
        "        with open(file_name, 'r', encoding='utf-8') as file:\n",
        "            corpus = file.read().splitlines()\n",
        "\n",
        "        sentences = [s.strip() for s in corpus]\n",
        "        sentence_size = len(sentences)\n",
        "        if sentence_size == 0:\n",
        "            print(f\"File {file_name} is empty or contains no valid sentences.\")\n",
        "            return []\n",
        "\n",
        "        # Tokenize and encode sentences\n",
        "        sentences_tokens = [tokenizer(s, return_tensors=\"pt\") for s in sentences]\n",
        "        sentences_encode = [model(**token) for token in sentences_tokens]\n",
        "        sentences_vec = [np.squeeze(vec[1].detach().numpy()) for vec in sentences_encode]\n",
        "\n",
        "        # Build sentence similarity matrix\n",
        "        def build_similarity_matrix(sentences):\n",
        "            similarity_matrix = np.zeros((len(sentences), len(sentences)))\n",
        "            for idx1 in range(len(sentences)):\n",
        "                for idx2 in range(len(sentences)):\n",
        "                    if idx1 == idx2:\n",
        "                        continue\n",
        "                    similarity_matrix[idx1][idx2] = sentence_similarity(sentences[idx1], sentences[idx2])\n",
        "            return similarity_matrix\n",
        "\n",
        "        def sentence_similarity(sent1, sent2):\n",
        "            return 1 - cosine_distance(sent1, sent2)\n",
        "\n",
        "        sentence_similarity_matrix = build_similarity_matrix(sentences_vec)\n",
        "        sentence_similarity_graph = nx.from_numpy_array(sentence_similarity_matrix)\n",
        "        scores = nx.pagerank(sentence_similarity_graph)\n",
        "\n",
        "        # Rank sentences by score\n",
        "        ranked_sentence = sorted(((scores[i], s) for i, s in enumerate(sentences)), reverse=True)\n",
        "        top_n = round(sentence_size * 0.2)\n",
        "        sum_list = [ranked_sentence[i][1] for i in range(top_n)]\n",
        "\n",
        "        # Highlight sentences in a Word document\n",
        "        doc = highlight_sentences('\\n'.join(sentences), sum_list)\n",
        "        output_file = f\"{os.path.splitext(file_name)[0]}_highlighted.docx\"\n",
        "        doc.save(output_file)\n",
        "        print(f\"Processed and saved: {output_file}\")\n",
        "        return sum_list\n",
        "    except FileNotFoundError:\n",
        "        print(f\"File not found: {file_name}\")\n",
        "        return []\n",
        "    except Exception as e:\n",
        "        print(f\"Error processing {file_name}: {e}\")\n",
        "        return []"
      ],
      "metadata": {
        "id": "bDM3MpPOmehA"
      },
      "execution_count": null,
      "outputs": []
    },
    {
      "cell_type": "code",
      "source": [
        "highlighted_file = 'clip_13.txt'\n",
        "sum_list = process_file(highlighted_file)"
      ],
      "metadata": {
        "colab": {
          "base_uri": "https://localhost:8080/"
        },
        "id": "5SXGwP1Nmej5",
        "outputId": "a2c03dc1-e621-4095-cf54-69b0e54fff41"
      },
      "execution_count": null,
      "outputs": [
        {
          "output_type": "stream",
          "name": "stdout",
          "text": [
            "Processed and saved: clip_13_highlighted.docx\n"
          ]
        }
      ]
    },
    {
      "cell_type": "code",
      "source": [
        "human_summaries = [f\"clip_13_{i}.txt\" for i in range(1, 5)]"
      ],
      "metadata": {
        "id": "lSHOZlM1memO"
      },
      "execution_count": null,
      "outputs": []
    },
    {
      "cell_type": "code",
      "source": [
        "def tokenizer(st_list):\n",
        "    words = []\n",
        "    for s in st_list:\n",
        "        w = word_tokenize(s)\n",
        "        w = [temp for temp in w if temp != ' ']\n",
        "        if w != []:\n",
        "            words.append(' '.join(w).lower())\n",
        "    return words"
      ],
      "metadata": {
        "id": "l3MZUwRqmeph"
      },
      "execution_count": null,
      "outputs": []
    },
    {
      "cell_type": "code",
      "source": [
        "def evaluate_summary(y_test, predicted):\n",
        "    rouge = Rouge()\n",
        "    scores = rouge.get_scores(y_test, predicted, avg=True)\n",
        "    score_1 = round(scores['rouge-1']['f'], 2)\n",
        "    score_2 = round(scores['rouge-2']['f'], 2)\n",
        "    score_L = round(scores['rouge-l']['f'], 2)\n",
        "    print('Rouge1:', score_1)\n",
        "    print('Rouge2:', score_2)\n",
        "    print('RougeL:', score_L)\n",
        "    print('Avg Rouge:', round(np.mean([score_1, score_2, score_L]), 2))\n"
      ],
      "metadata": {
        "id": "Ll8xjM4ynH74"
      },
      "execution_count": null,
      "outputs": []
    },
    {
      "cell_type": "code",
      "source": [
        "for human_summarie_file in human_summaries:\n",
        "    try:\n",
        "        with open(human_summarie_file, 'r', encoding='utf-8') as file:\n",
        "            human_summarie = file.read().splitlines()\n",
        "\n",
        "        # Tokenize the human summary and the highlighted sentences\n",
        "        human_summarie_word = tokenizer(human_summarie)\n",
        "        sum_list_word = tokenizer(sum_list)\n",
        "\n",
        "        # Convert lists to string for ROUGE comparison\n",
        "        test = ' '.join(human_summarie_word)  # Human summary\n",
        "        predicted = ' '.join(sum_list_word)  # Program summary\n",
        "\n",
        "        # Print for verification\n",
        "        print(f\"\\nComparing with {human_summarie_file}...\")\n",
        "        print(\"Test (Human summary):\", test)\n",
        "        print(\"Predicted (Highlighted summary):\", predicted)\n",
        "\n",
        "        # Calculate ROUGE score\n",
        "        evaluate_summary(test, predicted)\n",
        "\n",
        "    except FileNotFoundError:\n",
        "        print(f\"File not found: {human_summarie_file}\")\n",
        "    except Exception as e:\n",
        "        print(f\"Error processing {human_summarie_file}: {e}\")"
      ],
      "metadata": {
        "colab": {
          "base_uri": "https://localhost:8080/"
        },
        "id": "28yhA9fs8ar7",
        "outputId": "4d1917b3-eb81-4ee5-ddb6-35cb5089dde3"
      },
      "execution_count": null,
      "outputs": [
        {
          "output_type": "stream",
          "name": "stdout",
          "text": [
            "\n",
            "Comparing with clip_13_1.txt...\n",
            "Test (Human summary): ตอนนี้ นะ ครับ หรือ organization ของ เรา องค์ เรา เปลี่ยน ออง กร เรา เปลี่ยน หมาย ถึงว่า เปลี่ยน รูปแบบ บริหาร เปลี่ยน ของ มัน ไป เลย แต่ เดี๋ยวนี้ โลก มัน เปลี่ยนไป เรา จะ ใช้ server หลาย หลาย ตัว ทำ cluster ถ้า ใคร เรียน ผู้ใช้ software ขึ้น นะ enterprise เรียน rip-off เดี๋ยว พอ เข้าใจ ถ้า ใคร ยัง ไม่ ลอง เรียน เรา ไปดู นะคะ ก็ ใช้ server เป็น ภาพ หลาย ตัว แต่ server ไม่ ได้ แพง มาก แต่ มัน สามารถ จะ ขยาย เขา เรียก ว่า scale outscale out ก็ คือ ใช้ เกิน หลาย ๆ ตัวต่อ ตอน medical desk หลังคา หรือ เป็น cluster ใหญ่ ขึ้น มา ได้ ดู ที่ เรา ต้องการ ต่อมา นะคะ ตัว application และ system เปลี่ยน ระบบ สิ่ง ต้อง ต้องการ ของ ลูกค้า เปลี่ยนไป เมื่อกี้ บอก แล้ว แล้ว ต้อง ว่า local นะคะ แทนที่ มี ลูกค้า แค่ ใน องค์ ของ เรา หรือ คนใช้ ใน องค์ ของ เรา เรา ก็ ต้อง ใช้ อีก อ่อน หลาย ๆ ที่ dataway ต้อง เปลี่ยน ชนิด ของ dataway ก็ เปลี่ยน สมุด ว่า เรา ใช้ oracle อยู่ และ 8,000 คน ต่อ 8,000 ลูก ค้าน ตาย ชัน ต่อ 1 ครั้ง ตอนนี้ มัน ไม่ ไหว แล้ว ลูกค้า เรา เข้า เร qua หน้า สา ฟ ด้าน เครื่อง มัน ดาว เรา จะ ทำ ยังไง ? 1 . มัน ใช่ oracle เหมือนเดิม ลูกค้า จะ ทำ ยังไง ดี ? 2 . หรือ เรา จะ เกี่ยน database ? 3 . เปลี่ยน ท่า ใน ช่วง ของ เวลา ลูกค้า เรียน รู ก ค้า เบียน หน้า สา ฟ , ยอด เยอะ ค่ะ เรา ควรจะ ทำ ช่วง ลง กระเบียน เป็นตัว nosql ดี ไหม เพื่อ จะ เรียบ ขึ้น เมื่อ ลง กระเบียน เสร็จ แล้ว ค่อย เอา ตัว ที่ มัน ลง กระเบียน เข้ามา ลง religional database ดี ไหม คือ มัน ลง oracle ดี ไหม หรือว่า ลูก แปบ มัน เปลี่ยน application มัน เปลี่ยน ลูก แปบ ของ data มัน เปลี่ยน type and structure of data chain คือ อะไร ? เช่น databate ถ้า เรา ต้องการ จะ เปลี่ยน เรา ก็ ต้อง ไป เปลี่ยนตัว programming ด้วย แต่ ถ้า เรา เปลี่ยน บ่อย ๆ อย่างนี้ programming สำหรับ ไทย เลย ถ้า ไม่ ดี เรา อาจจะ เปลี่ยนเป็น nosql ไม่ ขึ้นกับ schema เท่าไร ถึง จริง ทีนี้ เรา ต้อง มี การวางแผน โครงการ ใน ตัว data ของ เรา เอง changing our database structure ทำ อย่างไร ถ้า จะ มอง เรื่อง ปัญหา ของ การ change ตัว โครงสร้าง เหมือน เดียว change สวัสดี ครับ การเปลี่ยนแปลง กฎระเบียบ ของ องค์กร แล้วก็ ลอง สร้าง แบบจำลอง ดู แบบ ลอง สร้าง แบบจำลอง ดู ว่า เรา สร้าง แบบจำลอง แล้ว มัน โอเค แล้วก็ มี standard นะ ครับ มี standard ของ หรือ necessarily ให้ โรง ทำ ไหม มี มาตรการ ต่าง ขั้น ต่อ ใน การ เปลี่ยน ให้ เรา ไหม ความ นา ชือๆ พร้อม ใช้งาน ยังไง แล้วก็ มีประสิทธิภาพ ยังไง dba ต้อง ดูแล database change bba เป็น คน จัดการ ดูแล ทั้งหมด ของ การเปลี่ยนแปลง database สต รัคเจอร์ หรือ เปลี่ยน เชิญ technical เปลี่ยน ที่ code ล่ะ กับ เปลี่ยน ที่ technical พวก นั้น นะ ครับ เปลี่ยน ตรวจ จะ เปลี่ยน bytecode เนี่ย นะ ครับ เปลี่ยน ที่ php นะ php เช่น เปลี่ยน upgrade    ตัว software ตัว นี้ ถือเป็น change management หมด นะคะ ที่ นี้ นี่ ส่วน ข้อง ตัว ที่ ต้อง เช่น มี dns software นะคะ hardware ตอน ฟิง และ critical design ที่ critical design นี่ ส่วนตัว database นะคะ ส่วน ที่ 4 คือ ส่วน application นะคะ ส่วน ที่ 5 คือ ส่วน ของ ข้าง ความ ของ สร้าง ว่า เรา จะ เปลี่ยน อะไร บ้าง สมมติ นะคะ มี อะไร ใหม่ ๆ เช่น มัน มา update security นะ update อะไร อ่ะ ที่ เป็น error อยู่ นิด นิดหน่อย ๆ อย่างนี้ นะคะ นี่ ก็ คือ มา ดู ใน ส่วน ของ ข้างใน แรก ของ database แล้ว นะ ค่ะ ว่า ข้าง ข้อมูล เรา มี อะไร เปลี่ยนแปลง บ้าง เพื่อ จะ ให้ ไป ด้วย จัด กับ ข้าง ข้อมูล ได้ ต้อง มีประสบการณ์ ที่ 1 จะ ได้ เห็น ว่า อ้อ ถ้า เรา design แบบนี้ แล้ว มัน data ไม่ เก็บ แบบนี้ แล้ว นะ มัน เก็บ อีก แบบ อย่างนี้ เป็นต้น คร รู้ ว่า 2 database ด้วย php ใช้ ตัว ไหน ลง sql\n",
            "Predicted (Highlighted summary): ถ้า ไม่ ขึ้น เหลือ ตัว ไม่ ได้ ถ้า มัน ก็ ต้อง ขึ้น แล้ว สามารถ จะ เพิ่ม รถ ได้ โดย ไม่ กระทบ ต่อ program ดี ไหม อันนี้ เขา เรียก ว่า chain ถ้า งนาต์ ตัว databate หรือ structure เ แล้ว คำ ขึ้นอยู่กับ android ที่ หลาย ๆ แล้ว คำสั่ง อัน เตอร์ จะ ไม่ เหมือนกัน outter ของ oracle ก็ พยายาม ลง ด้วย มัน ของ samsung ก็ ไป ไกล ละ apple มี นะ แต่ มัน ลง ไม่ ได้ เพราะ จาก hardware มัน ไม่ ส พอร์ต ความ คล้ายๆ กัน ความ ไม่ เข้าใจ นะ logical and physical design มัน จะ มี ตัว ความ ส เซ็น ของ มันดี อย่าง มัน อิมพิเมนต์ ด้วย ภาษา อา ลาย version อะไร ด้วย เช่น ถ้า อิมพิเมนต์ ด้วย php version นี้ มัน ก็ ต้อง เหมาะกับ database version นี้ เรา ควรจะ ทำ ช่วง ลง กระเบียน เป็นตัว nosql ดี ไหม เพื่อ จะ เรียบ ขึ้น เมื่อ ลง กระเบียน เสร็จ แล้ว ค่อย เอา ตัว ที่ มัน ลง กระเบียน เข้ามา ลง religional database ดี ไหม คือ มัน ลง oracle ดี ไหม ทีนี้ เรา ต้อง มี การ วาง แข่ง โรง การ ใน ตัว data ของ เรา เอง changing our database structure ทำ อย่างไร ที่จะ เปลี่ยน ตัวเอง ให้ เป็น ภาษา ใดๆ ก็ได้ ไม่ จะ บอ กว่า livo ตรงนี้ คือ failsafe automated หมายความว่า . ป้อง การ การ fail เรา ต้อง ลั่น แล้ว ต้อง จบ ง่าย ไม่ จบ มัน จะ row back คือ ยน กลับ เพราะฉะนั้น ตัว ที่ guarantee การ commit ก็ คือ relational ratabase เท่านั้น หรือว่า ลูก แปบ มัน เปลี่ยน application มัน เปลี่ยน ลูก แปบ ของ data มัน เปลี่ยน type and structure of data chain คือ อะไร ? เช่น databate ถ้า เรา ทำ religional database เรา ต้อง ฟิล กว่า ตอนนี้ field type เป็น อะไร มี กี่ field มี กี่ type เพราะฉะนั้น ความ ครบ สร้าง ของ database ถูก อับ ไป แล้ว ตัว application ก็ จะ เปลี่ยนไป แต่ ส่วนมาก ต้อง มา นำ คุย ก็ มา นำ ดู ว่า เปลี่ยนไป แค่ ไหน ไม่ ใช่ เปลี่ยน แค่ ตัว application อย่าง เดียว เสร็จ แล้ว นะคะ profitb patients ก็ เปลี่ยน ที่ ตัว application เพื่อ ที่ code ของ database ถ้า เรา search ก็ ต้อง connect database มัน มี sql i อะไร อย่าง ง่าย คุม ไม่ค่อย ต่ำ แล้ว นะ ตอบ เบสต์ ลง ไป ได้ แต่ ส่วน ที่จะ เปลี่ยนแปลง แน่ๆ คือ physical database structure อย่า oracle นะคะ มี wacar 2 ถ้า เรา ใช้ relational โดย คุณ จะ เป็น regional เนอะ แต่ ถ้า เมื่อ เรา เปลี่ยน เป็นตัว noise ก็ จะ ใช้ relational ดาตาเบส เรา ก็ ต้อง ใช้ อีก อ่อน หลาย ๆ ที่ dataway ต้อง เปลี่ยน ชนิด ของ dataway ก็ เปลี่ยน สมุด ว่า เรา ใช้ oracle อยู่ และ 8,000 คน ต่อ 8,000 ลูก ค้าน ตาย ชัน ต่อ 1 ครั้ง ตอนนี้ มัน ไม่ ไหว แล้ว\n",
            "Rouge1: 0.46\n",
            "Rouge2: 0.27\n",
            "RougeL: 0.37\n",
            "Avg Rouge: 0.37\n",
            "\n",
            "Comparing with clip_13_2.txt...\n",
            "Test (Human summary): ตอบสนอง จะ มีชีวิตรอด ได้ ใน ทุ กก ประ ดี ถ้า เรา ไม่ เปลี่ยนแปลง ทุกอย่าง เพราะ ภาพรวม ของ ธุ ริ กิจ คือ เล่น โลก ของ it นะ เรา จะ ตาย นะ ลูก เพราะฉะนั้น นะคะ เรา เรียน it เพราะ เรา จะ ดูเหมือน ผู้ เก่งกล้า พากเพียร ตอนนี้ นะ ครับ หรือ organization ของ เรา องค์ เรา เปลี่ยน ออง กร เรา เปลี่ยน หมาย ถึงว่า เปลี่ยน รูปแบบ บริหาร เปลี่ยน ของ มัน ไป เลย แล้ว ฟัง เมื่อวาน มี คน ถาม พวก ว่า ของ พวก หนึ่ง เขา เดิน เข้าไป ลอง ทำ ภาพ กับ ใจ เฮ้ย ! ทำไม มัน ใช้ insa ขนาด นี้ คือ ปกติ ถ้า พวก เรียน มา หรือ พวก เรียน รอ เรียน มา เรา จะ ใช้ server หนึ่ง ตัว รัน ระบบ หนึ่ง ระบบ แต่ เดี๋ยวนี้ โลก มัน เปลี่ยนไป เรา จะ ใช้ server หลาย หลาย ตัว ทำ cluster ถ้า ใคร เรียน ผู้ใช้ software ขึ้น นะ enterprise เรียน rip-off เดี๋ยว พอ เข้าใจ ถ้า ใคร ยัง ไม่ ลอง เรียน เรา ไปดู นะคะ ก็ ใช้ server เป็น ภาพ หลาย ตัว แต่ server ไม่ ได้ แพง มาก แต่ มัน สามารถ จะ ขยาย เขา เรียก ว่า scale outscale out ก็ คือ ใช้ เกิน หลาย ๆ ตัวต่อ ตอน medical desk หลังคา หรือ เป็น cluster ใหญ่ ขึ้น มา ได้ ดู ที่ เรา ต้องการ ต่อมา นะคะ ตัว application และ system เปลี่ยน ระบบ สิ่ง ต้อง ต้องการ ของ ลูกค้า เปลี่ยนไป ตัว ครง สร้าง จะ มาจาก การ แดน application หรือ ประ อ ยาม ตัวอย่าง หรือ performance เป็นผล ต นึง ที่ เปลี่ยน ครง สร้าง ได้ สอง อันนี้ สาม ภัน ดัน ไหม คะ ตัว อย่างเดียวกัน เลย ใช้ได้ เมื่อกี้ ตัว oracle รัฐ ตี ละ ไม่ เกิน 8,000 ธันต์ ทาง ศัตรู และ 1 วินาที แต่ ทำ ยังไง ล่ะ ใน เมื่อ มัน ลับ ไม่ ได้ เรา จะ เปลี่ยนไป ใช้ โน้ทเชล์ ก็ได้ แต่ เรา ไม่ ได้ เปลี่ยน ทั้งหมด ก็ได้ เปลี่ยน แค่ บาง ช่วง ล่ะ เพราะว่า ทำไม ตอบ ด้วย ตอบ ด้วย ตัว application แล้วกัน อย่าง ieg บาง ตัว ต้อง commit ลูก commit หมายความว่า ไง จำ acae ได้ ไหม คะ เรา ต้อง ลั่น แล้ว ต้อง จบ ง่าย ไม่ จบ มัน จะ row back คือ ยน กลับ เพราะฉะนั้น ตัว ที่ guarantee การ commit ก็ คือ relational ratabase เท่านั้น ตอนนี้ นะ แต่ ตัว โน้ทเชล์ ถ้า จะ ให้ มัน commit ต้อง เขียน โปร แกม control a ถาม ว่า ได้ ไหม ได้ แต่ ต้อง control e ไป ด้วยกัน น้อง นะคะ อย่า ลง นะคะ มัน มี อยู่ 2 ตัว นะคะ ลูก relational ratabase กับ nosqlrelational ratabase เช่น oracle เช่น mysql นี่ คือ สุ บบัติ ของ aciv มี การ commit แล้วก็ write ลง แต่ ส่วน ที่จะ เปลี่ยนแปลง แน่ๆ คือ physical database structure อย่า oracle นะคะ มี wacar 2 เดี๋ยว ผม จะ เห็น data type จะ ชื่อ วาว คา 2 แล้วก็ wacar 2 ชื่อ ใน macwale microsoft sql ไม่ มี อย่างนี้ เป็นต้น นะคะ ก็ ต้อง เปลี่ยน ส่วนตัว application อ่ะ application จะ เปลี่ยน หรือไม่ เปลี่ยน มัน จะ ขึ้นอยู่กับ ตอนที่ เรา connect มา สิบ ปี ที่แล้ว มะ แล้วก็ มัน ต้อง ลง ด้วย window 9 มัน window 7 , window 8 ขึ้น จำ ไม่ ได้ แล้ว ก็ พยายาม ลง ด้วย มัน ของ samsung ก็ ไป ไกล ละ apple มี นะ แต่ มัน ลง ไม่ ได้ เพราะ จาก hardware มัน ไม่ ส พอร์ต ความ คล้ายๆ กัน ความ ไม่ เข้าใจ นะ logical and physical design นี่ ก็ คือ มา ดู ใน ส่วน ของ ข้างใน แรก ของ database แล้ว นะ ค่ะ ว่า ข้าง ข้อมูล เรา มี อะไร เปลี่ยนแปลง บ้าง เพื่อ จะ ให้ ไป ด้วย จัด กับ ข้าง ข้อมูล ได้ ต้อง มีประสบการณ์ ที่ 1 จะ ได้ เห็น ว่า อ้อ ถ้า เรา design แบบนี้ แล้ว มัน data ไม่ เก็บ แบบนี้ แล้ว นะ มัน เก็บ อีก แบบ อย่างนี้ เป็นต้น ต่อ มานะ ค่ะ เปลี่ยนแปลง application มัน จะ สัม ผัน กัน ไม่ ว่า จะ เป็นตัว จาก จาก จาน ที่ บาย ว่า application ของ จาน กอง สัม ผัน กับ database อย่าง mysql ลอง เพราะฉะนั้น ความ ครบ สร้าง ของ database ถูก อับ ไป แล้ว ตัว application ก็ จะ เปลี่ยนไป แต่ ส่วนมาก ต้อง มา นำ คุย ก็ มา นำ ดู ว่า เปลี่ยนไป แค่ ไหน ไม่ ใช่ เปลี่ยน แค่ ตัว application อย่าง เดียว มัน จะ มี ตัว ความ ส เซ็น ของ มันดี อย่าง มัน อิมพิเมนต์ ด้วย ภาษา อา ลาย version อะไร ด้วย เช่น ถ้า อิมพิเมนต์ ด้วย php version นี้ มัน ก็ ต้อง เหมาะกับ database version นี้ ถ้า php version นี้ เหมาะกับ database version นี้ เป็น ต้อง ถ้า เรา search ก็ ต้อง connect database มัน มี sql i อะไร อย่าง ง่าย คุม ไม่ค่อย ต่ำ แล้ว นะ ตอบ เบสต์ ลง ไป ได้ ที่จะ เปลี่ยน ตัวเอง ให้ เป็น ภาษา ใดๆ ก็ได้ ไม่ จะ บอ กว่า livo ตรงนี้ คือ failsafe automated หมายความว่า . ป้อง การ การ fail    ต้องการ ช่างเทคนิค เลย ใน ส่วน นี้ efficiency คือ เปลี่ยนแปลง แล้ว ต้อง มี ประ สิ ธ ภาพ เปลี่ยนแปลง ให้ มันดี เปลี่ยนแปลง เป็น ง่าย ไป ต้อง ทำงาน เปลี่ยน คือ scenario ต่อ เปลี่ยนตัว structure เปลี่ยน ความต้องการ\n",
            "Predicted (Highlighted summary): ถ้า ไม่ ขึ้น เหลือ ตัว ไม่ ได้ ถ้า มัน ก็ ต้อง ขึ้น แล้ว สามารถ จะ เพิ่ม รถ ได้ โดย ไม่ กระทบ ต่อ program ดี ไหม อันนี้ เขา เรียก ว่า chain ถ้า งนาต์ ตัว databate หรือ structure เ แล้ว คำ ขึ้นอยู่กับ android ที่ หลาย ๆ แล้ว คำสั่ง อัน เตอร์ จะ ไม่ เหมือนกัน outter ของ oracle ก็ พยายาม ลง ด้วย มัน ของ samsung ก็ ไป ไกล ละ apple มี นะ แต่ มัน ลง ไม่ ได้ เพราะ จาก hardware มัน ไม่ ส พอร์ต ความ คล้ายๆ กัน ความ ไม่ เข้าใจ นะ logical and physical design มัน จะ มี ตัว ความ ส เซ็น ของ มันดี อย่าง มัน อิมพิเมนต์ ด้วย ภาษา อา ลาย version อะไร ด้วย เช่น ถ้า อิมพิเมนต์ ด้วย php version นี้ มัน ก็ ต้อง เหมาะกับ database version นี้ เรา ควรจะ ทำ ช่วง ลง กระเบียน เป็นตัว nosql ดี ไหม เพื่อ จะ เรียบ ขึ้น เมื่อ ลง กระเบียน เสร็จ แล้ว ค่อย เอา ตัว ที่ มัน ลง กระเบียน เข้ามา ลง religional database ดี ไหม คือ มัน ลง oracle ดี ไหม ทีนี้ เรา ต้อง มี การ วาง แข่ง โรง การ ใน ตัว data ของ เรา เอง changing our database structure ทำ อย่างไร ที่จะ เปลี่ยน ตัวเอง ให้ เป็น ภาษา ใดๆ ก็ได้ ไม่ จะ บอ กว่า livo ตรงนี้ คือ failsafe automated หมายความว่า . ป้อง การ การ fail เรา ต้อง ลั่น แล้ว ต้อง จบ ง่าย ไม่ จบ มัน จะ row back คือ ยน กลับ เพราะฉะนั้น ตัว ที่ guarantee การ commit ก็ คือ relational ratabase เท่านั้น หรือว่า ลูก แปบ มัน เปลี่ยน application มัน เปลี่ยน ลูก แปบ ของ data มัน เปลี่ยน type and structure of data chain คือ อะไร ? เช่น databate ถ้า เรา ทำ religional database เรา ต้อง ฟิล กว่า ตอนนี้ field type เป็น อะไร มี กี่ field มี กี่ type เพราะฉะนั้น ความ ครบ สร้าง ของ database ถูก อับ ไป แล้ว ตัว application ก็ จะ เปลี่ยนไป แต่ ส่วนมาก ต้อง มา นำ คุย ก็ มา นำ ดู ว่า เปลี่ยนไป แค่ ไหน ไม่ ใช่ เปลี่ยน แค่ ตัว application อย่าง เดียว เสร็จ แล้ว นะคะ profitb patients ก็ เปลี่ยน ที่ ตัว application เพื่อ ที่ code ของ database ถ้า เรา search ก็ ต้อง connect database มัน มี sql i อะไร อย่าง ง่าย คุม ไม่ค่อย ต่ำ แล้ว นะ ตอบ เบสต์ ลง ไป ได้ แต่ ส่วน ที่จะ เปลี่ยนแปลง แน่ๆ คือ physical database structure อย่า oracle นะคะ มี wacar 2 ถ้า เรา ใช้ relational โดย คุณ จะ เป็น regional เนอะ แต่ ถ้า เมื่อ เรา เปลี่ยน เป็นตัว noise ก็ จะ ใช้ relational ดาตาเบส เรา ก็ ต้อง ใช้ อีก อ่อน หลาย ๆ ที่ dataway ต้อง เปลี่ยน ชนิด ของ dataway ก็ เปลี่ยน สมุด ว่า เรา ใช้ oracle อยู่ และ 8,000 คน ต่อ 8,000 ลูก ค้าน ตาย ชัน ต่อ 1 ครั้ง ตอนนี้ มัน ไม่ ไหว แล้ว\n",
            "Rouge1: 0.55\n",
            "Rouge2: 0.36\n",
            "RougeL: 0.45\n",
            "Avg Rouge: 0.45\n",
            "\n",
            "Comparing with clip_13_3.txt...\n",
            "Test (Human summary): ตอนนี้ นะ ครับ หรือ organization ของ เรา องค์ เรา เปลี่ยน ออง กร เรา เปลี่ยน หมาย ถึงว่า เปลี่ยน รูปแบบ บริหาร เปลี่ยน ของ มัน ไป เลย แล้ว ฟัง เมื่อวาน มี คน ถาม พวก ว่า ของ พวก หนึ่ง เขา เดิน เข้าไป ลอง ทำ ภาพ กับ ใจ เฮ้ย ! ทำไม มัน ใช้ insa ขนาด นี้ คือ ปกติ ถ้า พวก เรียน มา หรือ พวก เรียน รอ เรียน มา เรา จะ ใช้ server หนึ่ง ตัว รัน ระบบ หนึ่ง ระบบ แต่ เดี๋ยวนี้ โลก มัน เปลี่ยนไป เรา จะ ใช้ server หลาย หลาย ตัว ทำ cluster ถ้า ใคร เรียน ผู้ใช้ software ขึ้น นะ enterprise เรียน rip-off เดี๋ยว พอ เข้าใจ ถ้า ใคร ยัง ไม่ ลอง เรียน เรา ไปดู นะคะ ก็ ใช้ server เป็น ภาพ หลาย ตัว แต่ server ไม่ ได้ แพง มาก แต่ มัน สามารถ จะ ขยาย เขา เรียก ว่า scale outscale out ก็ คือ ใช้ เกิน หลาย ๆ ตัวต่อ ตอน medical desk หลังคา หรือ เป็น cluster ใหญ่ ขึ้น มา ได้ ดู ที่ เรา ต้องการ ต่อมา นะคะ ตัว application และ system เปลี่ยน ระบบ สิ่ง ต้อง ต้องการ ของ ลูกค้า เปลี่ยนไป 1 . มัน ใช่ oracle เหมือนเดิม ลูกค้า จะ ทำ ยังไง ดี ? 2 . หรือ เรา จะ เกี่ยน database ? 3 . เปลี่ยน ท่า ใน ช่วง ของ เวลา ลูกค้า เรียน รู ก ค้า เบียน หน้า สา ฟ , ยอด เยอะ ค่ะ เรา ควรจะ ทำ ช่วง ลง กระเบียน เป็นตัว nosql ดี ไหม เพื่อ จะ เรียบ ขึ้น เมื่อ ลง กระเบียน เสร็จ แล้ว ค่อย เอา ตัว ที่ มัน ลง กระเบียน เข้ามา ลง religional database ดี ไหม คือ มัน ลง oracle ดี ไหม หรือว่า ลูก แปบ มัน เปลี่ยน application มัน เปลี่ยน ลูก แปบ ของ data มัน เปลี่ยน type and structure of data chain คือ อะไร ? เช่น databate ถ้า เรา ทำ religional database เรา ต้อง ฟิล กว่า ตอนนี้ field type เป็น อะไร มี กี่ field มี กี่ type ถ้า เรา ต้องการ จะ เปลี่ยน เรา ก็ ต้อง ไป เปลี่ยนตัว programming ด้วย แต่ ถ้า เรา เปลี่ยน บอย ๆ อย่างนี้ programming สำหรับ ไทย เลย ถ้า ไม่ ดี เรา อาจจะ เปลี่ยนเป็น nosql ไม่ ขึ้นกับ schema เท่าไร ถึง จริง มี standard ของ หรือ necessarily ให้ โรง ทำ ไหม มี มาตรการ ต่าง ขั้น ต่อ ใน การ เปลี่ยน ให้ เรา ไหม ความ นา ชือๆ และ การ ฐาน ไว้ ว่า โค ร สิน ต่างๆ จะ สำเร็จ ยังไง ไม่ สำเร็จ แล้ว ความพร้อม การใช้งาน สุดท้าย ดู การ ส่ง ส่งออก แล้วก็ จะ ประเมิน ได้ ว่า เรา จะ ใช้ ดา ต้า เบส ตัว ไหน ของ ผม ตั้งแต่ โปร เถอะ พร้อม ใช้งาน ยังไง แล้วก็ มีประสิทธิภาพ ยังไง dba ต้อง ดูแล database change bba เป็น คน จัดการ ดูแล ทั้งหมด ของ การเปลี่ยนแปลง database เสร็จ แล้ว นะคะ profitb patients ก็ เปลี่ยน ที่ ตัว application เพื่อ ที่ code ของ database แต่ ส่วน ที่จะ เปลี่ยนแปลง แน่ๆ คือ physical database structure อย่า oracle นะคะ มี wacar 2 เดี๋ยว ผม จะ เห็น data type จะ ชื่อ วาว คา 2 แล้วก็ wacar 2 ชื่อ ใน macwale microsoft sql ไม่ มี อย่างนี้ เป็นต้น นะคะ ก็ ต้อง เปลี่ยน ส่วนตัว application อ่ะ application จะ เปลี่ยน หรือไม่ เปลี่ยน มัน จะ ขึ้นอยู่กับ ตอนที่ เรา connect    มี อะไร ใหม่ ๆ เช่น มัน มา update security นะ update อะไร อ่ะ ที่ เป็น error อยู่ นิด นิดหน่อย ๆ อย่างนี้ นะคะ เหมือนกับ ตัว apple มัน update os อ่ะ นิด นิดหน่อย ๆ นะคะ ไม่ ได้ update แบบ แบบ version 1 ไม่ เหมือนกัน นะคะ ประมาณ นั้น นะคะ ก็ พยายาม ลง ด้วย มัน ของ samsung ก็ ไป ไกล ละ apple มี นะ แต่ มัน ลง ไม่ ได้ เพราะ จาก hardware มัน ไม่ ส พอร์ต ความ คล้ายๆ กัน ความ ไม่ เข้าใจ นะ logical and physical design title base ก็ เปลี่ยน standard ก็ เปลี่ยน และ การ สื่อ สัญ กับ มี เปลี่ยน แรง มา ดู การ ตัว ตัวต่อ เปลี่ยน limitation of altaraltar statement เป็น การเปลี่ยนตัว data base หลาย หลาย linux database ถ้า เรา ใช้ relational โดย คุณ จะ เป็น regional เนอะ แต่ ถ้า เมื่อ เรา เปลี่ยน เป็นตัว noise ก็ จะ ใช้ relational ดาตาเบส ใน การ compare database อย่า เขียน เอง ถาม ว่า เขียน ได้ ไหม เขียน ได้ แต่ว่า ถ้า มี tool ก็ ใช้ tool อย่า พยายาม ทำ อะไร ด้วยตัวเอง ถ้า เรา compare ฟัง ชั่ง ที่ ไม่ เท่ากัน dba จำ component ได้ ไหม บวก ก่อน กับ บวก ที่ หลังกับ a บวก 1 อาจ ก็ ใหม่\n",
            "Predicted (Highlighted summary): ถ้า ไม่ ขึ้น เหลือ ตัว ไม่ ได้ ถ้า มัน ก็ ต้อง ขึ้น แล้ว สามารถ จะ เพิ่ม รถ ได้ โดย ไม่ กระทบ ต่อ program ดี ไหม อันนี้ เขา เรียก ว่า chain ถ้า งนาต์ ตัว databate หรือ structure เ แล้ว คำ ขึ้นอยู่กับ android ที่ หลาย ๆ แล้ว คำสั่ง อัน เตอร์ จะ ไม่ เหมือนกัน outter ของ oracle ก็ พยายาม ลง ด้วย มัน ของ samsung ก็ ไป ไกล ละ apple มี นะ แต่ มัน ลง ไม่ ได้ เพราะ จาก hardware มัน ไม่ ส พอร์ต ความ คล้ายๆ กัน ความ ไม่ เข้าใจ นะ logical and physical design มัน จะ มี ตัว ความ ส เซ็น ของ มันดี อย่าง มัน อิมพิเมนต์ ด้วย ภาษา อา ลาย version อะไร ด้วย เช่น ถ้า อิมพิเมนต์ ด้วย php version นี้ มัน ก็ ต้อง เหมาะกับ database version นี้ เรา ควรจะ ทำ ช่วง ลง กระเบียน เป็นตัว nosql ดี ไหม เพื่อ จะ เรียบ ขึ้น เมื่อ ลง กระเบียน เสร็จ แล้ว ค่อย เอา ตัว ที่ มัน ลง กระเบียน เข้ามา ลง religional database ดี ไหม คือ มัน ลง oracle ดี ไหม ทีนี้ เรา ต้อง มี การ วาง แข่ง โรง การ ใน ตัว data ของ เรา เอง changing our database structure ทำ อย่างไร ที่จะ เปลี่ยน ตัวเอง ให้ เป็น ภาษา ใดๆ ก็ได้ ไม่ จะ บอ กว่า livo ตรงนี้ คือ failsafe automated หมายความว่า . ป้อง การ การ fail เรา ต้อง ลั่น แล้ว ต้อง จบ ง่าย ไม่ จบ มัน จะ row back คือ ยน กลับ เพราะฉะนั้น ตัว ที่ guarantee การ commit ก็ คือ relational ratabase เท่านั้น หรือว่า ลูก แปบ มัน เปลี่ยน application มัน เปลี่ยน ลูก แปบ ของ data มัน เปลี่ยน type and structure of data chain คือ อะไร ? เช่น databate ถ้า เรา ทำ religional database เรา ต้อง ฟิล กว่า ตอนนี้ field type เป็น อะไร มี กี่ field มี กี่ type เพราะฉะนั้น ความ ครบ สร้าง ของ database ถูก อับ ไป แล้ว ตัว application ก็ จะ เปลี่ยนไป แต่ ส่วนมาก ต้อง มา นำ คุย ก็ มา นำ ดู ว่า เปลี่ยนไป แค่ ไหน ไม่ ใช่ เปลี่ยน แค่ ตัว application อย่าง เดียว เสร็จ แล้ว นะคะ profitb patients ก็ เปลี่ยน ที่ ตัว application เพื่อ ที่ code ของ database ถ้า เรา search ก็ ต้อง connect database มัน มี sql i อะไร อย่าง ง่าย คุม ไม่ค่อย ต่ำ แล้ว นะ ตอบ เบสต์ ลง ไป ได้ แต่ ส่วน ที่จะ เปลี่ยนแปลง แน่ๆ คือ physical database structure อย่า oracle นะคะ มี wacar 2 ถ้า เรา ใช้ relational โดย คุณ จะ เป็น regional เนอะ แต่ ถ้า เมื่อ เรา เปลี่ยน เป็นตัว noise ก็ จะ ใช้ relational ดาตาเบส เรา ก็ ต้อง ใช้ อีก อ่อน หลาย ๆ ที่ dataway ต้อง เปลี่ยน ชนิด ของ dataway ก็ เปลี่ยน สมุด ว่า เรา ใช้ oracle อยู่ และ 8,000 คน ต่อ 8,000 ลูก ค้าน ตาย ชัน ต่อ 1 ครั้ง ตอนนี้ มัน ไม่ ไหว แล้ว\n",
            "Rouge1: 0.49\n",
            "Rouge2: 0.33\n",
            "RougeL: 0.4\n",
            "Avg Rouge: 0.41\n",
            "\n",
            "Comparing with clip_13_4.txt...\n",
            "Test (Human summary): ตอบสนอง จะ มีชีวิตรอด ได้ ใน ทุ กก ประ ดี ถ้า เรา ไม่ เปลี่ยนแปลง ทุกอย่าง เพราะ ภาพรวม ของ ธุ ริ กิจ คือ เล่น โลก ของ it นะ ตอนนี้ นะ ครับ หรือ organization ของ เรา องค์ เรา เปลี่ยน ออง กร เรา เปลี่ยน หมาย ถึงว่า เปลี่ยน รูปแบบ บริหาร เปลี่ยน ของ มัน ไป เลย แล้ว ฟัง เมื่อวาน มี คน ถาม พวก ว่า ของ พวก หนึ่ง เขา เดิน เข้าไป ลอง ทำ ภาพ กับ ใจ เฮ้ย ! ทำไม มัน ใช้ insa ขนาด นี้ คือ ปกติ ถ้า พวก เรียน มา หรือ พวก เรียน รอ เรียน มา เรา จะ ใช้ server หนึ่ง ตัว รัน ระบบ หนึ่ง ระบบ แต่ เดี๋ยวนี้ โลก มัน เปลี่ยนไป เรา จะ ใช้ server หลาย หลาย ตัว ทำ cluster 1 . มัน ใช่ oracle เหมือนเดิม ลูกค้า จะ ทำ ยังไง ดี ? 2 . หรือ เรา จะ เกี่ยน database ? 3 . เปลี่ยน ท่า ใน ช่วง ของ เวลา ลูกค้า เรียน รู ก ค้า เบียน หน้า สา ฟ , ยอด เยอะ ค่ะ เรา ควรจะ ทำ ช่วง ลง กระเบียน เป็นตัว nosql ดี ไหม เพื่อ จะ เรียบ ขึ้น เมื่อ ลง กระเบียน เสร็จ แล้ว ค่อย เอา ตัว ที่ มัน ลง กระเบียน เข้ามา ลง religional database ดี ไหม คือ มัน ลง oracle ดี ไหม หรือว่า ลูก แปบ มัน เปลี่ยน application มัน เปลี่ยน ลูก แปบ ของ data มัน เปลี่ยน type and structure of data chain คือ อะไร ? เช่น databate ถ้า เรา ทำ religional database เรา ต้อง ฟิล กว่า ตอนนี้ field type เป็น อะไร มี กี่ field มี กี่ type ถ้า เรา ต้องการ จะ เปลี่ยน เรา ก็ ต้อง ไป เปลี่ยนตัว programming ด้วย แต่ ถ้า เรา เปลี่ยน บอย ๆ อย่างนี้ programming สำหรับ ไทย เลย ถ้า ไม่ ดี เรา อาจจะ เปลี่ยนเป็น nosql ไม่ ขึ้นกับ schema เท่าไร ถึง จริง    ต้อง control e ไป ด้วยกัน น้อง นะคะ อย่า ลง นะคะ มัน มี อยู่ 2 ตัว นะคะ ลูก relational ratabase กับ nosqlrelational ratabase เช่น oracle เช่น mysql นี่ คือ สุ บบัติ ของ aciv มี การ commit แล้วก็ write ลง มี standard ของ หรือ necessarily ให้ โรง ทำ ไหม มี มาตรการ ต่าง ขั้น ต่อ ใน การ เปลี่ยน ให้ เรา ไหม ความ นา ชือๆ และ การ ฐาน ไว้ ว่า โค ร สิน ต่างๆ จะ สำเร็จ ยังไง ไม่ สำเร็จ แล้ว ความพร้อม การใช้งาน สุดท้าย ดู การ ส่ง ส่งออก แล้วก็ จะ ประเมิน ได้ ว่า เรา จะ ใช้ ดา ต้า เบส ตัว ไหน ของ ผม ตั้งแต่ โปร เถอะ พร้อม ใช้งาน ยังไง แล้วก็ มีประสิทธิภาพ ยังไง dba ต้อง ดูแล database change bba เป็น คน จัดการ ดูแล ทั้งหมด ของ การเปลี่ยนแปลง database เพราะฉะนั้น ความ ครบ สร้าง ของ database ถูก อับ ไป แล้ว ตัว application ก็ จะ เปลี่ยนไป แต่ ส่วนมาก ต้อง มา นำ คุย ก็ มา นำ ดู ว่า เปลี่ยนไป แค่ ไหน ไม่ ใช่ เปลี่ยน แค่ ตัว application อย่าง เดียว มัน จะ มี ตัว ความ ส เซ็น ของ มันดี อย่าง มัน อิมพิเมนต์ ด้วย ภาษา อา ลาย version อะไร ด้วย เช่น ถ้า อิมพิเมนต์ ด้วย php version นี้ มัน ก็ ต้อง เหมาะกับ database version นี้ ถ้า php version นี้ เหมาะกับ database version นี้ เป็น ต้อง ถ้า เรา search ก็ ต้อง connect database มัน มี sql i อะไร อย่าง ง่าย คุม ไม่ค่อย ต่ำ แล้ว นะ ตอบ เบสต์ ลง ไป ได้ ที่จะ เปลี่ยน ตัวเอง ให้ เป็น ภาษา ใดๆ ก็ได้ ไม่ จะ บอ กว่า livo ตรงนี้ คือ failsafe automated หมายความว่า . ป้อง การ การ fail    ต้องการ ช่างเทคนิค เลย ใน ส่วน นี้ efficiency คือ เปลี่ยนแปลง แล้ว ต้อง มี ประ สิ ธ ภาพ เปลี่ยนแปลง ให้ มันดี เปลี่ยนแปลง เป็น ง่าย ไป ต้อง ทำงาน เปลี่ยน คือ scenario ต่อ เปลี่ยนตัว structure เปลี่ยน ความต้องการ title base ก็ เปลี่ยน standard ก็ เปลี่ยน และ การ สื่อ สัญ กับ มี เปลี่ยน แรง มา ดู การ ตัว ตัวต่อ เปลี่ยน limitation of altaraltar statement เป็น การเปลี่ยนตัว data base หลาย หลาย linux database คำสั่ง อัน เตอร์ จะ ไม่ เหมือนกัน performing outer จะ ไม่ เหมือนกัน แล้ว คำ ขึ้นอยู่กับ android ที่ หลาย ๆ แล้ว คำสั่ง อัน เตอร์ จะ ไม่ เหมือนกัน outter ของ oracle จะ เป็น คำสั่ง นึง outter ของ light wear จะ เป็น คำสั่ง นึง ซึ่ง ทั้ง 2 นิ ท อ่อน ก็ จะ พยายาม แหลก ให้ มิตร ฐาน ที่สุด แต่ว่า ความ ไม่ ได้ 100 % นะ เพราะ นั้น คำสั่ง คุณ นี้ อาจจะ เปลี่ยน แบ ง ได้ ไม่ ใช่ คำสั่ง outer อย่าง เดียว นะ ซัส บาง คำสั่ง ที่ เดต ห้าม เซ็ต เดต เก็ต เดต ใน วง นี้ เปลี่ยน หมด เนอะ ฟอง ชั่น ต่างๆ เนี่ย ก็ จะ เปลี่ยน เอง ถ้า เรา ใช้ relational โดย คุณ จะ เป็น regional เนอะ แต่ ถ้า เมื่อ เรา เปลี่ยน เป็นตัว noise ก็ จะ ใช้ relational ดาตาเบส\n",
            "Predicted (Highlighted summary): ถ้า ไม่ ขึ้น เหลือ ตัว ไม่ ได้ ถ้า มัน ก็ ต้อง ขึ้น แล้ว สามารถ จะ เพิ่ม รถ ได้ โดย ไม่ กระทบ ต่อ program ดี ไหม อันนี้ เขา เรียก ว่า chain ถ้า งนาต์ ตัว databate หรือ structure เ แล้ว คำ ขึ้นอยู่กับ android ที่ หลาย ๆ แล้ว คำสั่ง อัน เตอร์ จะ ไม่ เหมือนกัน outter ของ oracle ก็ พยายาม ลง ด้วย มัน ของ samsung ก็ ไป ไกล ละ apple มี นะ แต่ มัน ลง ไม่ ได้ เพราะ จาก hardware มัน ไม่ ส พอร์ต ความ คล้ายๆ กัน ความ ไม่ เข้าใจ นะ logical and physical design มัน จะ มี ตัว ความ ส เซ็น ของ มันดี อย่าง มัน อิมพิเมนต์ ด้วย ภาษา อา ลาย version อะไร ด้วย เช่น ถ้า อิมพิเมนต์ ด้วย php version นี้ มัน ก็ ต้อง เหมาะกับ database version นี้ เรา ควรจะ ทำ ช่วง ลง กระเบียน เป็นตัว nosql ดี ไหม เพื่อ จะ เรียบ ขึ้น เมื่อ ลง กระเบียน เสร็จ แล้ว ค่อย เอา ตัว ที่ มัน ลง กระเบียน เข้ามา ลง religional database ดี ไหม คือ มัน ลง oracle ดี ไหม ทีนี้ เรา ต้อง มี การ วาง แข่ง โรง การ ใน ตัว data ของ เรา เอง changing our database structure ทำ อย่างไร ที่จะ เปลี่ยน ตัวเอง ให้ เป็น ภาษา ใดๆ ก็ได้ ไม่ จะ บอ กว่า livo ตรงนี้ คือ failsafe automated หมายความว่า . ป้อง การ การ fail เรา ต้อง ลั่น แล้ว ต้อง จบ ง่าย ไม่ จบ มัน จะ row back คือ ยน กลับ เพราะฉะนั้น ตัว ที่ guarantee การ commit ก็ คือ relational ratabase เท่านั้น หรือว่า ลูก แปบ มัน เปลี่ยน application มัน เปลี่ยน ลูก แปบ ของ data มัน เปลี่ยน type and structure of data chain คือ อะไร ? เช่น databate ถ้า เรา ทำ religional database เรา ต้อง ฟิล กว่า ตอนนี้ field type เป็น อะไร มี กี่ field มี กี่ type เพราะฉะนั้น ความ ครบ สร้าง ของ database ถูก อับ ไป แล้ว ตัว application ก็ จะ เปลี่ยนไป แต่ ส่วนมาก ต้อง มา นำ คุย ก็ มา นำ ดู ว่า เปลี่ยนไป แค่ ไหน ไม่ ใช่ เปลี่ยน แค่ ตัว application อย่าง เดียว เสร็จ แล้ว นะคะ profitb patients ก็ เปลี่ยน ที่ ตัว application เพื่อ ที่ code ของ database ถ้า เรา search ก็ ต้อง connect database มัน มี sql i อะไร อย่าง ง่าย คุม ไม่ค่อย ต่ำ แล้ว นะ ตอบ เบสต์ ลง ไป ได้ แต่ ส่วน ที่จะ เปลี่ยนแปลง แน่ๆ คือ physical database structure อย่า oracle นะคะ มี wacar 2 ถ้า เรา ใช้ relational โดย คุณ จะ เป็น regional เนอะ แต่ ถ้า เมื่อ เรา เปลี่ยน เป็นตัว noise ก็ จะ ใช้ relational ดาตาเบส เรา ก็ ต้อง ใช้ อีก อ่อน หลาย ๆ ที่ dataway ต้อง เปลี่ยน ชนิด ของ dataway ก็ เปลี่ยน สมุด ว่า เรา ใช้ oracle อยู่ และ 8,000 คน ต่อ 8,000 ลูก ค้าน ตาย ชัน ต่อ 1 ครั้ง ตอนนี้ มัน ไม่ ไหว แล้ว\n",
            "Rouge1: 0.57\n",
            "Rouge2: 0.43\n",
            "RougeL: 0.47\n",
            "Avg Rouge: 0.49\n"
          ]
        }
      ]
    },
    {
      "cell_type": "code",
      "source": [
        "a = {\"Rouge1\": 0.69, \"Rouge2\": 0.56, \"RougeL\": 0.58, \"Avg Rouge\": 0.61}\n",
        "b = {\"Rouge1\": 0.67, \"Rouge2\": 0.53, \"RougeL\": 0.61, \"Avg Rouge\": 0.6}\n",
        "c = {\"Rouge1\": 0.66, \"Rouge2\": 0.54, \"RougeL\": 0.54, \"Avg Rouge\": 0.58}\n",
        "d = {\"Rouge1\": 0.39, \"Rouge2\": 0.12, \"RougeL\": 0.22, \"Avg Rouge\": 0.24}"
      ],
      "metadata": {
        "id": "3VftPDSaA4Z1"
      },
      "execution_count": 28,
      "outputs": []
    },
    {
      "cell_type": "code",
      "source": [
        "results = [a, b, c, d]"
      ],
      "metadata": {
        "id": "WR2k0m5rA6BG"
      },
      "execution_count": 29,
      "outputs": []
    },
    {
      "cell_type": "code",
      "source": [
        "avg_rouge1 = sum([result[\"Rouge1\"] for result in results]) / len(results)\n",
        "avg_rouge2 = sum([result[\"Rouge2\"] for result in results]) / len(results)\n",
        "avg_rougeL = sum([result[\"RougeL\"] for result in results]) / len(results)\n",
        "avg_rouge = sum([result[\"Avg Rouge\"] for result in results]) / len(results)\n",
        "\n",
        "print(f\"ค่าเฉลี่ยของ Rouge1 จากการทดสอบ 4 ชุดคือ: {avg_rouge1}\")\n",
        "print(f\"ค่าเฉลี่ยของ Rouge2 จากการทดสอบ 4 ชุดคือ: {avg_rouge2}\")\n",
        "print(f\"ค่าเฉลี่ยของ RougeL จากการทดสอบ 4 ชุดคือ: {avg_rougeL}\")\n",
        "print(f\"ค่าเฉลี่ยของ Avg Rouge จากการทดสอบ 4 ชุดคือ: {avg_rouge}\")"
      ],
      "metadata": {
        "colab": {
          "base_uri": "https://localhost:8080/"
        },
        "id": "nHVMSZgPA6mH",
        "outputId": "d4a81536-4348-49aa-d759-4cbc5653fe55"
      },
      "execution_count": 31,
      "outputs": [
        {
          "output_type": "stream",
          "name": "stdout",
          "text": [
            "ค่าเฉลี่ยของ Rouge1 จากการทดสอบ 4 ชุดคือ: 0.6025\n",
            "ค่าเฉลี่ยของ Rouge2 จากการทดสอบ 4 ชุดคือ: 0.4375\n",
            "ค่าเฉลี่ยของ RougeL จากการทดสอบ 4 ชุดคือ: 0.4875\n",
            "ค่าเฉลี่ยของ Avg Rouge จากการทดสอบ 4 ชุดคือ: 0.5075000000000001\n"
          ]
        }
      ]
    },
    {
      "cell_type": "code",
      "source": [
        "clip_1 = {\"Rouge1\": 0.6025, \"Rouge2\": 0.4375, \"RougeL\": 0.4875, \"Avg Rouge\": 0.5075}\n",
        "clip_2 = {\"Rouge1\": 0.56, \"Rouge2\": 0.3875, \"RougeL\": 0.315, \"Avg Rouge\": 0.4225}\n",
        "clip_3 = {\"Rouge1\": 0.645, \"Rouge2\": 0.385, \"RougeL\": 0.4675, \"Avg Rouge\": 0.4975}\n",
        "clip_5 = {\"Rouge1\": 0.47, \"Rouge2\": 0.2345, \"RougeL\": 0.2475, \"Avg Rouge\": 0.32}\n",
        "clip_6 = {\"Rouge1\": 0.53, \"Rouge2\": 0.2925, \"RougeL\": 0.37, \"Avg Rouge\": 0.3975}\n",
        "clip_7 = {\"Rouge1\": 0.5, \"Rouge2\": 0.33, \"RougeL\": 0.205, \"Avg Rouge\": 0.345}\n",
        "clip_9 = {\"Rouge1\": 0.5925, \"Rouge2\": 0.455, \"RougeL\": 0.36, \"Avg Rouge\": 0.47}\n",
        "clip_10 = {\"Rouge1\": 0.61, \"Rouge2\": 0.375, \"RougeL\": 0.325, \"Avg Rouge\": 0.4375}\n",
        "clip_12 = {\"Rouge1\": 0.455, \"Rouge2\": 0.31, \"RougeL\": 0.3775, \"Avg Rouge\": 0.38}\n",
        "clip_13 = {\"Rouge1\": 0.5175, \"Rouge2\": 0.37, \"RougeL\": 0.3325, \"Avg Rouge\": 0.43}"
      ],
      "metadata": {
        "id": "R7HJYBi0HrUz"
      },
      "execution_count": 32,
      "outputs": []
    },
    {
      "cell_type": "code",
      "source": [
        "results = [clip_1, clip_2, clip_3, clip_5, clip_6, clip_7, clip_9, clip_10, clip_12, clip_13]"
      ],
      "metadata": {
        "id": "a1dfMP93H3Z1"
      },
      "execution_count": 33,
      "outputs": []
    },
    {
      "cell_type": "code",
      "source": [
        "avg_rouge1 = sum([result[\"Rouge1\"] for result in results]) / len(results)\n",
        "avg_rouge2 = sum([result[\"Rouge2\"] for result in results]) / len(results)\n",
        "avg_rougeL = sum([result[\"RougeL\"] for result in results]) / len(results)\n",
        "avg_rouge = sum([result[\"Avg Rouge\"] for result in results]) / len(results)\n",
        "\n",
        "print(f\"ค่าเฉลี่ยของ Rouge1 จากการทดสอบ 10 ชุดคือ: {avg_rouge1}\")\n",
        "print(f\"ค่าเฉลี่ยของ Rouge2 จากการทดสอบ 10 ชุดคือ: {avg_rouge2}\")\n",
        "print(f\"ค่าเฉลี่ยของ RougeL จากการทดสอบ 10 ชุดคือ: {avg_rougeL}\")\n",
        "print(f\"ค่าเฉลี่ยของ Avg Rouge จากการทดสอบ 10 ชุดคือ: {avg_rouge}\")"
      ],
      "metadata": {
        "colab": {
          "base_uri": "https://localhost:8080/"
        },
        "id": "twH-1QiDH3l_",
        "outputId": "27bd3cdd-5380-4613-cd32-e8c5ed1acf7e"
      },
      "execution_count": 34,
      "outputs": [
        {
          "output_type": "stream",
          "name": "stdout",
          "text": [
            "ค่าเฉลี่ยของ Rouge1 จากการทดสอบ 10 ชุดคือ: 0.5482500000000001\n",
            "ค่าเฉลี่ยของ Rouge2 จากการทดสอบ 10 ชุดคือ: 0.3577\n",
            "ค่าเฉลี่ยของ RougeL จากการทดสอบ 10 ชุดคือ: 0.34875\n",
            "ค่าเฉลี่ยของ Avg Rouge จากการทดสอบ 10 ชุดคือ: 0.42074999999999996\n"
          ]
        }
      ]
    }
  ]
}