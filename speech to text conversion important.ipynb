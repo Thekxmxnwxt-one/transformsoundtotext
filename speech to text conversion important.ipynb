{
  "nbformat": 4,
  "nbformat_minor": 0,
  "metadata": {
    "colab": {
      "provenance": [],
      "gpuType": "T4"
    },
    "kernelspec": {
      "name": "python3",
      "display_name": "Python 3"
    },
    "language_info": {
      "name": "python"
    },
    "accelerator": "GPU"
  },
  "cells": [
    {
      "cell_type": "code",
      "source": [
        "pip install resampy"
      ],
      "metadata": {
        "colab": {
          "base_uri": "https://localhost:8080/"
        },
        "id": "_Q7E33g-r9fy",
        "outputId": "87be237d-598d-4d6a-daa7-0628725ff973"
      },
      "execution_count": null,
      "outputs": [
        {
          "output_type": "stream",
          "name": "stdout",
          "text": [
            "Requirement already satisfied: resampy in /usr/local/lib/python3.10/dist-packages (0.4.3)\n",
            "Requirement already satisfied: numpy>=1.17 in /usr/local/lib/python3.10/dist-packages (from resampy) (1.26.4)\n",
            "Requirement already satisfied: numba>=0.53 in /usr/local/lib/python3.10/dist-packages (from resampy) (0.60.0)\n",
            "Requirement already satisfied: llvmlite<0.44,>=0.43.0dev0 in /usr/local/lib/python3.10/dist-packages (from numba>=0.53->resampy) (0.43.0)\n"
          ]
        }
      ]
    },
    {
      "cell_type": "code",
      "source": [
        "from google.colab import drive\n",
        "drive.mount('/content/drive')\n",
        "\n",
        "import os"
      ],
      "metadata": {
        "colab": {
          "base_uri": "https://localhost:8080/"
        },
        "id": "Iis9U96asC6C",
        "outputId": "7006fab2-bbb1-4a23-9f78-f438df05fb20"
      },
      "execution_count": null,
      "outputs": [
        {
          "output_type": "stream",
          "name": "stdout",
          "text": [
            "Drive already mounted at /content/drive; to attempt to forcibly remount, call drive.mount(\"/content/drive\", force_remount=True).\n"
          ]
        }
      ]
    },
    {
      "cell_type": "code",
      "source": [
        "data_path = 'drive/My Drive/term project data processing/'\n",
        "print(os.listdir(data_path))"
      ],
      "metadata": {
        "colab": {
          "base_uri": "https://localhost:8080/"
        },
        "id": "aYbV1Vq6sVd_",
        "outputId": "e528b1e5-8e95-455d-e2be-90280c7a003e"
      },
      "execution_count": null,
      "outputs": [
        {
          "output_type": "stream",
          "name": "stdout",
          "text": [
            "['dataset']\n"
          ]
        }
      ]
    },
    {
      "cell_type": "code",
      "source": [
        "filelist = os.listdir(data_path)\n",
        "\n",
        "for filename in filelist:\n",
        "  print(filename)"
      ],
      "metadata": {
        "colab": {
          "base_uri": "https://localhost:8080/"
        },
        "id": "-HidFyOGsks7",
        "outputId": "ab1ee5cc-89c6-44b5-dadb-77c4a2320b33"
      },
      "execution_count": null,
      "outputs": [
        {
          "output_type": "stream",
          "name": "stdout",
          "text": [
            "dataset\n"
          ]
        }
      ]
    },
    {
      "cell_type": "markdown",
      "source": [
        "**ตัดเสียง2นาที**"
      ],
      "metadata": {
        "id": "4xWUdHiLlfkp"
      }
    },
    {
      "cell_type": "code",
      "source": [
        "!pip install ffmpeg"
      ],
      "metadata": {
        "colab": {
          "base_uri": "https://localhost:8080/"
        },
        "id": "5xCJ_QWhlnrY",
        "outputId": "4f17d552-7caf-4141-9035-5aed64989423"
      },
      "execution_count": null,
      "outputs": [
        {
          "output_type": "stream",
          "name": "stdout",
          "text": [
            "Collecting ffmpeg\n",
            "  Downloading ffmpeg-1.4.tar.gz (5.1 kB)\n",
            "  Preparing metadata (setup.py) ... \u001b[?25l\u001b[?25hdone\n",
            "Building wheels for collected packages: ffmpeg\n",
            "  Building wheel for ffmpeg (setup.py) ... \u001b[?25l\u001b[?25hdone\n",
            "  Created wheel for ffmpeg: filename=ffmpeg-1.4-py3-none-any.whl size=6082 sha256=b31ac70f3bfba4bcfbfc09f1753ab0680049d2fc11aa1fd37a0eadd1dd6787f9\n",
            "  Stored in directory: /root/.cache/pip/wheels/8e/7a/69/cd6aeb83b126a7f04cbe7c9d929028dc52a6e7d525ff56003a\n",
            "Successfully built ffmpeg\n",
            "Installing collected packages: ffmpeg\n",
            "Successfully installed ffmpeg-1.4\n"
          ]
        }
      ]
    },
    {
      "cell_type": "code",
      "source": [
        "!pip install moviepy"
      ],
      "metadata": {
        "colab": {
          "base_uri": "https://localhost:8080/"
        },
        "id": "wrDrIuB97_gc",
        "outputId": "2839284e-20aa-4679-c8d6-010682f5a337"
      },
      "execution_count": null,
      "outputs": [
        {
          "output_type": "stream",
          "name": "stdout",
          "text": [
            "Requirement already satisfied: moviepy in /usr/local/lib/python3.10/dist-packages (1.0.3)\n",
            "Requirement already satisfied: decorator<5.0,>=4.0.2 in /usr/local/lib/python3.10/dist-packages (from moviepy) (4.4.2)\n",
            "Requirement already satisfied: imageio<3.0,>=2.5 in /usr/local/lib/python3.10/dist-packages (from moviepy) (2.36.0)\n",
            "Requirement already satisfied: imageio_ffmpeg>=0.2.0 in /usr/local/lib/python3.10/dist-packages (from moviepy) (0.5.1)\n",
            "Requirement already satisfied: tqdm<5.0,>=4.11.2 in /usr/local/lib/python3.10/dist-packages (from moviepy) (4.66.6)\n",
            "Requirement already satisfied: numpy>=1.17.3 in /usr/local/lib/python3.10/dist-packages (from moviepy) (1.26.4)\n",
            "Requirement already satisfied: requests<3.0,>=2.8.1 in /usr/local/lib/python3.10/dist-packages (from moviepy) (2.32.3)\n",
            "Requirement already satisfied: proglog<=1.0.0 in /usr/local/lib/python3.10/dist-packages (from moviepy) (0.1.10)\n",
            "Requirement already satisfied: pillow>=8.3.2 in /usr/local/lib/python3.10/dist-packages (from imageio<3.0,>=2.5->moviepy) (11.0.0)\n",
            "Requirement already satisfied: setuptools in /usr/local/lib/python3.10/dist-packages (from imageio_ffmpeg>=0.2.0->moviepy) (75.1.0)\n",
            "Requirement already satisfied: charset-normalizer<4,>=2 in /usr/local/lib/python3.10/dist-packages (from requests<3.0,>=2.8.1->moviepy) (3.4.0)\n",
            "Requirement already satisfied: idna<4,>=2.5 in /usr/local/lib/python3.10/dist-packages (from requests<3.0,>=2.8.1->moviepy) (3.10)\n",
            "Requirement already satisfied: urllib3<3,>=1.21.1 in /usr/local/lib/python3.10/dist-packages (from requests<3.0,>=2.8.1->moviepy) (2.2.3)\n",
            "Requirement already satisfied: certifi>=2017.4.17 in /usr/local/lib/python3.10/dist-packages (from requests<3.0,>=2.8.1->moviepy) (2024.8.30)\n"
          ]
        }
      ]
    },
    {
      "cell_type": "code",
      "source": [
        "from moviepy.video.io.VideoFileClip import VideoFileClip\n",
        "from moviepy.audio.io.AudioFileClip import AudioFileClip"
      ],
      "metadata": {
        "id": "agMmu7XO8BsW"
      },
      "execution_count": null,
      "outputs": []
    },
    {
      "cell_type": "code",
      "source": [
        "input_folder = data_path+\"dataset/full dataset\"  # โฟลเดอร์ที่เก็บคลิปต้นฉบับ\n",
        "wav_folder = data_path+\"dataset/wav dataset\"  # โฟลเดอร์สำหรับไฟล์ .wav\n",
        "output_folder = data_path+\"dataset/segment dataset\"  # โฟลเดอร์สำหรับเก็บคลิปย่อย\n",
        "os.makedirs(wav_folder, exist_ok=True)\n",
        "os.makedirs(output_folder, exist_ok=True)"
      ],
      "metadata": {
        "id": "aRQdfM5_-AKH"
      },
      "execution_count": null,
      "outputs": []
    },
    {
      "cell_type": "code",
      "source": [
        "# ความยาวของคลิปย่อย (วินาที)\n",
        "segment_duration = 300  # 5 นาที"
      ],
      "metadata": {
        "id": "5lWfXhfZ-Y61"
      },
      "execution_count": null,
      "outputs": []
    },
    {
      "cell_type": "code",
      "source": [
        "# ฟังก์ชันแปลง .mp4 เป็น .wav\n",
        "def convert_to_wav(input_path, output_path):\n",
        "    video = VideoFileClip(input_path)  # โหลดไฟล์วิดีโอ\n",
        "    audio = video.audio               # ดึงส่วนเสียงออกมา\n",
        "    audio.write_audiofile(output_path)  # บันทึกเป็นไฟล์ .wav\n",
        "    audio.close()                     # ปิดไฟล์เสียง\n",
        "    video.close()                     # ปิดไฟล์วิดีโอ\n",
        "\n",
        "# ประมวลผลทุกไฟล์ในโฟลเดอร์ full\n",
        "for i in range(1, 16):  # ไล่ตั้งแต่ clip_1.mp4 ถึง clip_15.mp4\n",
        "    input_file = os.path.join(input_folder, f'clip_{i}.mp4')  # ไฟล์ต้นฉบับ\n",
        "    wav_file = os.path.join(wav_folder, f'clip_{i}.wav')  # ไฟล์ผลลัพธ์\n",
        "\n",
        "    if os.path.exists(input_file):\n",
        "        print(f'Processing {input_file}...')\n",
        "        convert_to_wav(input_file, wav_file)  # แปลงไฟล์\n",
        "    else:\n",
        "        print(f'{input_file} not found.')\n"
      ],
      "metadata": {
        "colab": {
          "base_uri": "https://localhost:8080/"
        },
        "id": "7Jx-w-Yr-Z5h",
        "outputId": "77e971aa-d25d-4a9d-cd22-21d47b27afd3"
      },
      "execution_count": null,
      "outputs": [
        {
          "output_type": "stream",
          "name": "stdout",
          "text": [
            "Processing drive/My Drive/term project data processing/dataset/full dataset/clip_1.mp4...\n",
            "MoviePy - Writing audio in drive/My Drive/term project data processing/dataset/wav dataset/clip_1.wav\n"
          ]
        },
        {
          "output_type": "stream",
          "name": "stderr",
          "text": []
        },
        {
          "output_type": "stream",
          "name": "stdout",
          "text": [
            "MoviePy - Done.\n",
            "Processing drive/My Drive/term project data processing/dataset/full dataset/clip_2.mp4...\n",
            "MoviePy - Writing audio in drive/My Drive/term project data processing/dataset/wav dataset/clip_2.wav\n"
          ]
        },
        {
          "output_type": "stream",
          "name": "stderr",
          "text": []
        },
        {
          "output_type": "stream",
          "name": "stdout",
          "text": [
            "MoviePy - Done.\n",
            "Processing drive/My Drive/term project data processing/dataset/full dataset/clip_3.mp4...\n",
            "MoviePy - Writing audio in drive/My Drive/term project data processing/dataset/wav dataset/clip_3.wav\n"
          ]
        },
        {
          "output_type": "stream",
          "name": "stderr",
          "text": []
        },
        {
          "output_type": "stream",
          "name": "stdout",
          "text": [
            "MoviePy - Done.\n",
            "Processing drive/My Drive/term project data processing/dataset/full dataset/clip_4.mp4...\n",
            "MoviePy - Writing audio in drive/My Drive/term project data processing/dataset/wav dataset/clip_4.wav\n"
          ]
        },
        {
          "output_type": "stream",
          "name": "stderr",
          "text": []
        },
        {
          "output_type": "stream",
          "name": "stdout",
          "text": [
            "MoviePy - Done.\n",
            "Processing drive/My Drive/term project data processing/dataset/full dataset/clip_5.mp4...\n",
            "MoviePy - Writing audio in drive/My Drive/term project data processing/dataset/wav dataset/clip_5.wav\n"
          ]
        },
        {
          "output_type": "stream",
          "name": "stderr",
          "text": []
        },
        {
          "output_type": "stream",
          "name": "stdout",
          "text": [
            "MoviePy - Done.\n",
            "Processing drive/My Drive/term project data processing/dataset/full dataset/clip_6.mp4...\n",
            "MoviePy - Writing audio in drive/My Drive/term project data processing/dataset/wav dataset/clip_6.wav\n"
          ]
        },
        {
          "output_type": "stream",
          "name": "stderr",
          "text": []
        },
        {
          "output_type": "stream",
          "name": "stdout",
          "text": [
            "MoviePy - Done.\n",
            "Processing drive/My Drive/term project data processing/dataset/full dataset/clip_7.mp4...\n",
            "MoviePy - Writing audio in drive/My Drive/term project data processing/dataset/wav dataset/clip_7.wav\n"
          ]
        },
        {
          "output_type": "stream",
          "name": "stderr",
          "text": []
        },
        {
          "output_type": "stream",
          "name": "stdout",
          "text": [
            "MoviePy - Done.\n",
            "Processing drive/My Drive/term project data processing/dataset/full dataset/clip_8.mp4...\n",
            "MoviePy - Writing audio in drive/My Drive/term project data processing/dataset/wav dataset/clip_8.wav\n"
          ]
        },
        {
          "output_type": "stream",
          "name": "stderr",
          "text": []
        },
        {
          "output_type": "stream",
          "name": "stdout",
          "text": [
            "MoviePy - Done.\n",
            "Processing drive/My Drive/term project data processing/dataset/full dataset/clip_9.mp4...\n",
            "MoviePy - Writing audio in drive/My Drive/term project data processing/dataset/wav dataset/clip_9.wav\n"
          ]
        },
        {
          "output_type": "stream",
          "name": "stderr",
          "text": []
        },
        {
          "output_type": "stream",
          "name": "stdout",
          "text": [
            "MoviePy - Done.\n",
            "Processing drive/My Drive/term project data processing/dataset/full dataset/clip_10.mp4...\n",
            "MoviePy - Writing audio in drive/My Drive/term project data processing/dataset/wav dataset/clip_10.wav\n"
          ]
        },
        {
          "output_type": "stream",
          "name": "stderr",
          "text": []
        },
        {
          "output_type": "stream",
          "name": "stdout",
          "text": [
            "MoviePy - Done.\n",
            "Processing drive/My Drive/term project data processing/dataset/full dataset/clip_11.mp4...\n",
            "MoviePy - Writing audio in drive/My Drive/term project data processing/dataset/wav dataset/clip_11.wav\n"
          ]
        },
        {
          "output_type": "stream",
          "name": "stderr",
          "text": []
        },
        {
          "output_type": "stream",
          "name": "stdout",
          "text": [
            "MoviePy - Done.\n",
            "Processing drive/My Drive/term project data processing/dataset/full dataset/clip_12.mp4...\n",
            "MoviePy - Writing audio in drive/My Drive/term project data processing/dataset/wav dataset/clip_12.wav\n"
          ]
        },
        {
          "output_type": "stream",
          "name": "stderr",
          "text": []
        },
        {
          "output_type": "stream",
          "name": "stdout",
          "text": [
            "MoviePy - Done.\n",
            "Processing drive/My Drive/term project data processing/dataset/full dataset/clip_13.mp4...\n",
            "MoviePy - Writing audio in drive/My Drive/term project data processing/dataset/wav dataset/clip_13.wav\n"
          ]
        },
        {
          "output_type": "stream",
          "name": "stderr",
          "text": []
        },
        {
          "output_type": "stream",
          "name": "stdout",
          "text": [
            "MoviePy - Done.\n",
            "Processing drive/My Drive/term project data processing/dataset/full dataset/clip_14.mp4...\n",
            "MoviePy - Writing audio in drive/My Drive/term project data processing/dataset/wav dataset/clip_14.wav\n"
          ]
        },
        {
          "output_type": "stream",
          "name": "stderr",
          "text": []
        },
        {
          "output_type": "stream",
          "name": "stdout",
          "text": [
            "MoviePy - Done.\n",
            "Processing drive/My Drive/term project data processing/dataset/full dataset/clip_15.mp4...\n",
            "MoviePy - Writing audio in drive/My Drive/term project data processing/dataset/wav dataset/clip_15.wav\n"
          ]
        },
        {
          "output_type": "stream",
          "name": "stderr",
          "text": []
        },
        {
          "output_type": "stream",
          "name": "stdout",
          "text": [
            "MoviePy - Done.\n"
          ]
        }
      ]
    },
    {
      "cell_type": "code",
      "source": [
        "# ฟังก์ชันสำหรับตัดคลิปเสียง\n",
        "def split_audio(input_path, output_dir, segment_duration):\n",
        "    audio_clip = AudioFileClip(input_path)\n",
        "    duration = audio_clip.duration\n",
        "    os.makedirs(output_dir, exist_ok=True)  # สร้างโฟลเดอร์สำหรับคลิปย่อย\n",
        "\n",
        "    for i, start_time in enumerate(range(0, int(duration), segment_duration)):\n",
        "        end_time = min(start_time + segment_duration, duration)\n",
        "        segment_path = os.path.join(output_dir, f'segment_{i+1}.wav')\n",
        "        audio_clip.subclip(start_time, end_time).write_audiofile(segment_path)\n",
        "\n",
        "    audio_clip.close()\n",
        "\n",
        "# ประมวลผลทุกไฟล์ในโฟลเดอร์ wav\n",
        "for i in range(1, 16):  # ไล่ตั้งแต่ clip_1.wav ถึง clip_15.wav\n",
        "    input_file = os.path.join(wav_folder, f'clip_{i}.wav')  # ไฟล์ต้นฉบับ\n",
        "    segment_dir = os.path.join(output_folder, f'clip_{i}')  # โฟลเดอร์สำหรับคลิปย่อย\n",
        "\n",
        "    if os.path.exists(input_file):\n",
        "        print(f'Processing {input_file}...')\n",
        "        split_audio(input_file, segment_dir, segment_duration)  # ตัดไฟล์ย่อย\n",
        "    else:\n",
        "        print(f'{input_file} not found.')\n"
      ],
      "metadata": {
        "colab": {
          "base_uri": "https://localhost:8080/"
        },
        "id": "Pl8twHii-t75",
        "outputId": "ec3d58e0-52fc-4ec8-b860-6db9652e8483"
      },
      "execution_count": null,
      "outputs": [
        {
          "output_type": "stream",
          "name": "stdout",
          "text": [
            "Processing drive/My Drive/term project data processing/dataset/wav dataset/clip_1.wav...\n",
            "MoviePy - Writing audio in drive/My Drive/term project data processing/dataset/segment dataset/clip_1/segment_1.wav\n"
          ]
        },
        {
          "output_type": "stream",
          "name": "stderr",
          "text": []
        },
        {
          "output_type": "stream",
          "name": "stdout",
          "text": [
            "MoviePy - Done.\n",
            "MoviePy - Writing audio in drive/My Drive/term project data processing/dataset/segment dataset/clip_1/segment_2.wav\n"
          ]
        },
        {
          "output_type": "stream",
          "name": "stderr",
          "text": []
        },
        {
          "output_type": "stream",
          "name": "stdout",
          "text": [
            "MoviePy - Done.\n",
            "MoviePy - Writing audio in drive/My Drive/term project data processing/dataset/segment dataset/clip_1/segment_3.wav\n"
          ]
        },
        {
          "output_type": "stream",
          "name": "stderr",
          "text": []
        },
        {
          "output_type": "stream",
          "name": "stdout",
          "text": [
            "MoviePy - Done.\n",
            "MoviePy - Writing audio in drive/My Drive/term project data processing/dataset/segment dataset/clip_1/segment_4.wav\n"
          ]
        },
        {
          "output_type": "stream",
          "name": "stderr",
          "text": []
        },
        {
          "output_type": "stream",
          "name": "stdout",
          "text": [
            "MoviePy - Done.\n",
            "MoviePy - Writing audio in drive/My Drive/term project data processing/dataset/segment dataset/clip_1/segment_5.wav\n"
          ]
        },
        {
          "output_type": "stream",
          "name": "stderr",
          "text": []
        },
        {
          "output_type": "stream",
          "name": "stdout",
          "text": [
            "MoviePy - Done.\n",
            "MoviePy - Writing audio in drive/My Drive/term project data processing/dataset/segment dataset/clip_1/segment_6.wav\n"
          ]
        },
        {
          "output_type": "stream",
          "name": "stderr",
          "text": []
        },
        {
          "output_type": "stream",
          "name": "stdout",
          "text": [
            "MoviePy - Done.\n",
            "MoviePy - Writing audio in drive/My Drive/term project data processing/dataset/segment dataset/clip_1/segment_7.wav\n"
          ]
        },
        {
          "output_type": "stream",
          "name": "stderr",
          "text": []
        },
        {
          "output_type": "stream",
          "name": "stdout",
          "text": [
            "MoviePy - Done.\n",
            "MoviePy - Writing audio in drive/My Drive/term project data processing/dataset/segment dataset/clip_1/segment_8.wav\n"
          ]
        },
        {
          "output_type": "stream",
          "name": "stderr",
          "text": []
        },
        {
          "output_type": "stream",
          "name": "stdout",
          "text": [
            "MoviePy - Done.\n",
            "MoviePy - Writing audio in drive/My Drive/term project data processing/dataset/segment dataset/clip_1/segment_9.wav\n"
          ]
        },
        {
          "output_type": "stream",
          "name": "stderr",
          "text": []
        },
        {
          "output_type": "stream",
          "name": "stdout",
          "text": [
            "MoviePy - Done.\n",
            "Processing drive/My Drive/term project data processing/dataset/wav dataset/clip_2.wav...\n",
            "MoviePy - Writing audio in drive/My Drive/term project data processing/dataset/segment dataset/clip_2/segment_1.wav\n"
          ]
        },
        {
          "output_type": "stream",
          "name": "stderr",
          "text": []
        },
        {
          "output_type": "stream",
          "name": "stdout",
          "text": [
            "MoviePy - Done.\n",
            "MoviePy - Writing audio in drive/My Drive/term project data processing/dataset/segment dataset/clip_2/segment_2.wav\n"
          ]
        },
        {
          "output_type": "stream",
          "name": "stderr",
          "text": []
        },
        {
          "output_type": "stream",
          "name": "stdout",
          "text": [
            "MoviePy - Done.\n",
            "MoviePy - Writing audio in drive/My Drive/term project data processing/dataset/segment dataset/clip_2/segment_3.wav\n"
          ]
        },
        {
          "output_type": "stream",
          "name": "stderr",
          "text": []
        },
        {
          "output_type": "stream",
          "name": "stdout",
          "text": [
            "MoviePy - Done.\n",
            "MoviePy - Writing audio in drive/My Drive/term project data processing/dataset/segment dataset/clip_2/segment_4.wav\n"
          ]
        },
        {
          "output_type": "stream",
          "name": "stderr",
          "text": []
        },
        {
          "output_type": "stream",
          "name": "stdout",
          "text": [
            "MoviePy - Done.\n",
            "Processing drive/My Drive/term project data processing/dataset/wav dataset/clip_3.wav...\n",
            "MoviePy - Writing audio in drive/My Drive/term project data processing/dataset/segment dataset/clip_3/segment_1.wav\n"
          ]
        },
        {
          "output_type": "stream",
          "name": "stderr",
          "text": []
        },
        {
          "output_type": "stream",
          "name": "stdout",
          "text": [
            "MoviePy - Done.\n",
            "MoviePy - Writing audio in drive/My Drive/term project data processing/dataset/segment dataset/clip_3/segment_2.wav\n"
          ]
        },
        {
          "output_type": "stream",
          "name": "stderr",
          "text": []
        },
        {
          "output_type": "stream",
          "name": "stdout",
          "text": [
            "MoviePy - Done.\n",
            "MoviePy - Writing audio in drive/My Drive/term project data processing/dataset/segment dataset/clip_3/segment_3.wav\n"
          ]
        },
        {
          "output_type": "stream",
          "name": "stderr",
          "text": []
        },
        {
          "output_type": "stream",
          "name": "stdout",
          "text": [
            "MoviePy - Done.\n",
            "MoviePy - Writing audio in drive/My Drive/term project data processing/dataset/segment dataset/clip_3/segment_4.wav\n"
          ]
        },
        {
          "output_type": "stream",
          "name": "stderr",
          "text": []
        },
        {
          "output_type": "stream",
          "name": "stdout",
          "text": [
            "MoviePy - Done.\n",
            "MoviePy - Writing audio in drive/My Drive/term project data processing/dataset/segment dataset/clip_3/segment_5.wav\n"
          ]
        },
        {
          "output_type": "stream",
          "name": "stderr",
          "text": []
        },
        {
          "output_type": "stream",
          "name": "stdout",
          "text": [
            "MoviePy - Done.\n",
            "MoviePy - Writing audio in drive/My Drive/term project data processing/dataset/segment dataset/clip_3/segment_6.wav\n"
          ]
        },
        {
          "output_type": "stream",
          "name": "stderr",
          "text": []
        },
        {
          "output_type": "stream",
          "name": "stdout",
          "text": [
            "MoviePy - Done.\n",
            "Processing drive/My Drive/term project data processing/dataset/wav dataset/clip_4.wav...\n",
            "MoviePy - Writing audio in drive/My Drive/term project data processing/dataset/segment dataset/clip_4/segment_1.wav\n"
          ]
        },
        {
          "output_type": "stream",
          "name": "stderr",
          "text": []
        },
        {
          "output_type": "stream",
          "name": "stdout",
          "text": [
            "MoviePy - Done.\n",
            "MoviePy - Writing audio in drive/My Drive/term project data processing/dataset/segment dataset/clip_4/segment_2.wav\n"
          ]
        },
        {
          "output_type": "stream",
          "name": "stderr",
          "text": []
        },
        {
          "output_type": "stream",
          "name": "stdout",
          "text": [
            "MoviePy - Done.\n",
            "MoviePy - Writing audio in drive/My Drive/term project data processing/dataset/segment dataset/clip_4/segment_3.wav\n"
          ]
        },
        {
          "output_type": "stream",
          "name": "stderr",
          "text": []
        },
        {
          "output_type": "stream",
          "name": "stdout",
          "text": [
            "MoviePy - Done.\n",
            "MoviePy - Writing audio in drive/My Drive/term project data processing/dataset/segment dataset/clip_4/segment_4.wav\n"
          ]
        },
        {
          "output_type": "stream",
          "name": "stderr",
          "text": []
        },
        {
          "output_type": "stream",
          "name": "stdout",
          "text": [
            "MoviePy - Done.\n",
            "MoviePy - Writing audio in drive/My Drive/term project data processing/dataset/segment dataset/clip_4/segment_5.wav\n"
          ]
        },
        {
          "output_type": "stream",
          "name": "stderr",
          "text": []
        },
        {
          "output_type": "stream",
          "name": "stdout",
          "text": [
            "MoviePy - Done.\n",
            "Processing drive/My Drive/term project data processing/dataset/wav dataset/clip_5.wav...\n",
            "MoviePy - Writing audio in drive/My Drive/term project data processing/dataset/segment dataset/clip_5/segment_1.wav\n"
          ]
        },
        {
          "output_type": "stream",
          "name": "stderr",
          "text": []
        },
        {
          "output_type": "stream",
          "name": "stdout",
          "text": [
            "MoviePy - Done.\n",
            "MoviePy - Writing audio in drive/My Drive/term project data processing/dataset/segment dataset/clip_5/segment_2.wav\n"
          ]
        },
        {
          "output_type": "stream",
          "name": "stderr",
          "text": []
        },
        {
          "output_type": "stream",
          "name": "stdout",
          "text": [
            "MoviePy - Done.\n",
            "MoviePy - Writing audio in drive/My Drive/term project data processing/dataset/segment dataset/clip_5/segment_3.wav\n"
          ]
        },
        {
          "output_type": "stream",
          "name": "stderr",
          "text": []
        },
        {
          "output_type": "stream",
          "name": "stdout",
          "text": [
            "MoviePy - Done.\n",
            "MoviePy - Writing audio in drive/My Drive/term project data processing/dataset/segment dataset/clip_5/segment_4.wav\n"
          ]
        },
        {
          "output_type": "stream",
          "name": "stderr",
          "text": []
        },
        {
          "output_type": "stream",
          "name": "stdout",
          "text": [
            "MoviePy - Done.\n",
            "Processing drive/My Drive/term project data processing/dataset/wav dataset/clip_6.wav...\n",
            "MoviePy - Writing audio in drive/My Drive/term project data processing/dataset/segment dataset/clip_6/segment_1.wav\n"
          ]
        },
        {
          "output_type": "stream",
          "name": "stderr",
          "text": []
        },
        {
          "output_type": "stream",
          "name": "stdout",
          "text": [
            "MoviePy - Done.\n",
            "MoviePy - Writing audio in drive/My Drive/term project data processing/dataset/segment dataset/clip_6/segment_2.wav\n"
          ]
        },
        {
          "output_type": "stream",
          "name": "stderr",
          "text": []
        },
        {
          "output_type": "stream",
          "name": "stdout",
          "text": [
            "MoviePy - Done.\n",
            "MoviePy - Writing audio in drive/My Drive/term project data processing/dataset/segment dataset/clip_6/segment_3.wav\n"
          ]
        },
        {
          "output_type": "stream",
          "name": "stderr",
          "text": []
        },
        {
          "output_type": "stream",
          "name": "stdout",
          "text": [
            "MoviePy - Done.\n",
            "MoviePy - Writing audio in drive/My Drive/term project data processing/dataset/segment dataset/clip_6/segment_4.wav\n"
          ]
        },
        {
          "output_type": "stream",
          "name": "stderr",
          "text": []
        },
        {
          "output_type": "stream",
          "name": "stdout",
          "text": [
            "MoviePy - Done.\n",
            "MoviePy - Writing audio in drive/My Drive/term project data processing/dataset/segment dataset/clip_6/segment_5.wav\n"
          ]
        },
        {
          "output_type": "stream",
          "name": "stderr",
          "text": []
        },
        {
          "output_type": "stream",
          "name": "stdout",
          "text": [
            "MoviePy - Done.\n",
            "MoviePy - Writing audio in drive/My Drive/term project data processing/dataset/segment dataset/clip_6/segment_6.wav\n"
          ]
        },
        {
          "output_type": "stream",
          "name": "stderr",
          "text": []
        },
        {
          "output_type": "stream",
          "name": "stdout",
          "text": [
            "MoviePy - Done.\n",
            "MoviePy - Writing audio in drive/My Drive/term project data processing/dataset/segment dataset/clip_6/segment_7.wav\n"
          ]
        },
        {
          "output_type": "stream",
          "name": "stderr",
          "text": []
        },
        {
          "output_type": "stream",
          "name": "stdout",
          "text": [
            "MoviePy - Done.\n",
            "Processing drive/My Drive/term project data processing/dataset/wav dataset/clip_7.wav...\n",
            "MoviePy - Writing audio in drive/My Drive/term project data processing/dataset/segment dataset/clip_7/segment_1.wav\n"
          ]
        },
        {
          "output_type": "stream",
          "name": "stderr",
          "text": []
        },
        {
          "output_type": "stream",
          "name": "stdout",
          "text": [
            "MoviePy - Done.\n",
            "MoviePy - Writing audio in drive/My Drive/term project data processing/dataset/segment dataset/clip_7/segment_2.wav\n"
          ]
        },
        {
          "output_type": "stream",
          "name": "stderr",
          "text": []
        },
        {
          "output_type": "stream",
          "name": "stdout",
          "text": [
            "MoviePy - Done.\n",
            "MoviePy - Writing audio in drive/My Drive/term project data processing/dataset/segment dataset/clip_7/segment_3.wav\n"
          ]
        },
        {
          "output_type": "stream",
          "name": "stderr",
          "text": []
        },
        {
          "output_type": "stream",
          "name": "stdout",
          "text": [
            "MoviePy - Done.\n",
            "MoviePy - Writing audio in drive/My Drive/term project data processing/dataset/segment dataset/clip_7/segment_4.wav\n"
          ]
        },
        {
          "output_type": "stream",
          "name": "stderr",
          "text": []
        },
        {
          "output_type": "stream",
          "name": "stdout",
          "text": [
            "MoviePy - Done.\n",
            "MoviePy - Writing audio in drive/My Drive/term project data processing/dataset/segment dataset/clip_7/segment_5.wav\n"
          ]
        },
        {
          "output_type": "stream",
          "name": "stderr",
          "text": []
        },
        {
          "output_type": "stream",
          "name": "stdout",
          "text": [
            "MoviePy - Done.\n",
            "MoviePy - Writing audio in drive/My Drive/term project data processing/dataset/segment dataset/clip_7/segment_6.wav\n"
          ]
        },
        {
          "output_type": "stream",
          "name": "stderr",
          "text": []
        },
        {
          "output_type": "stream",
          "name": "stdout",
          "text": [
            "MoviePy - Done.\n",
            "Processing drive/My Drive/term project data processing/dataset/wav dataset/clip_8.wav...\n",
            "MoviePy - Writing audio in drive/My Drive/term project data processing/dataset/segment dataset/clip_8/segment_1.wav\n"
          ]
        },
        {
          "output_type": "stream",
          "name": "stderr",
          "text": []
        },
        {
          "output_type": "stream",
          "name": "stdout",
          "text": [
            "MoviePy - Done.\n",
            "MoviePy - Writing audio in drive/My Drive/term project data processing/dataset/segment dataset/clip_8/segment_2.wav\n"
          ]
        },
        {
          "output_type": "stream",
          "name": "stderr",
          "text": []
        },
        {
          "output_type": "stream",
          "name": "stdout",
          "text": [
            "MoviePy - Done.\n",
            "MoviePy - Writing audio in drive/My Drive/term project data processing/dataset/segment dataset/clip_8/segment_3.wav\n"
          ]
        },
        {
          "output_type": "stream",
          "name": "stderr",
          "text": []
        },
        {
          "output_type": "stream",
          "name": "stdout",
          "text": [
            "MoviePy - Done.\n",
            "Processing drive/My Drive/term project data processing/dataset/wav dataset/clip_9.wav...\n",
            "MoviePy - Writing audio in drive/My Drive/term project data processing/dataset/segment dataset/clip_9/segment_1.wav\n"
          ]
        },
        {
          "output_type": "stream",
          "name": "stderr",
          "text": []
        },
        {
          "output_type": "stream",
          "name": "stdout",
          "text": [
            "MoviePy - Done.\n",
            "MoviePy - Writing audio in drive/My Drive/term project data processing/dataset/segment dataset/clip_9/segment_2.wav\n"
          ]
        },
        {
          "output_type": "stream",
          "name": "stderr",
          "text": []
        },
        {
          "output_type": "stream",
          "name": "stdout",
          "text": [
            "MoviePy - Done.\n",
            "MoviePy - Writing audio in drive/My Drive/term project data processing/dataset/segment dataset/clip_9/segment_3.wav\n"
          ]
        },
        {
          "output_type": "stream",
          "name": "stderr",
          "text": []
        },
        {
          "output_type": "stream",
          "name": "stdout",
          "text": [
            "MoviePy - Done.\n",
            "MoviePy - Writing audio in drive/My Drive/term project data processing/dataset/segment dataset/clip_9/segment_4.wav\n"
          ]
        },
        {
          "output_type": "stream",
          "name": "stderr",
          "text": []
        },
        {
          "output_type": "stream",
          "name": "stdout",
          "text": [
            "MoviePy - Done.\n",
            "Processing drive/My Drive/term project data processing/dataset/wav dataset/clip_10.wav...\n",
            "MoviePy - Writing audio in drive/My Drive/term project data processing/dataset/segment dataset/clip_10/segment_1.wav\n"
          ]
        },
        {
          "output_type": "stream",
          "name": "stderr",
          "text": []
        },
        {
          "output_type": "stream",
          "name": "stdout",
          "text": [
            "MoviePy - Done.\n",
            "MoviePy - Writing audio in drive/My Drive/term project data processing/dataset/segment dataset/clip_10/segment_2.wav\n"
          ]
        },
        {
          "output_type": "stream",
          "name": "stderr",
          "text": []
        },
        {
          "output_type": "stream",
          "name": "stdout",
          "text": [
            "MoviePy - Done.\n",
            "MoviePy - Writing audio in drive/My Drive/term project data processing/dataset/segment dataset/clip_10/segment_3.wav\n"
          ]
        },
        {
          "output_type": "stream",
          "name": "stderr",
          "text": []
        },
        {
          "output_type": "stream",
          "name": "stdout",
          "text": [
            "MoviePy - Done.\n",
            "MoviePy - Writing audio in drive/My Drive/term project data processing/dataset/segment dataset/clip_10/segment_4.wav\n"
          ]
        },
        {
          "output_type": "stream",
          "name": "stderr",
          "text": []
        },
        {
          "output_type": "stream",
          "name": "stdout",
          "text": [
            "MoviePy - Done.\n",
            "MoviePy - Writing audio in drive/My Drive/term project data processing/dataset/segment dataset/clip_10/segment_5.wav\n"
          ]
        },
        {
          "output_type": "stream",
          "name": "stderr",
          "text": []
        },
        {
          "output_type": "stream",
          "name": "stdout",
          "text": [
            "MoviePy - Done.\n",
            "MoviePy - Writing audio in drive/My Drive/term project data processing/dataset/segment dataset/clip_10/segment_6.wav\n"
          ]
        },
        {
          "output_type": "stream",
          "name": "stderr",
          "text": []
        },
        {
          "output_type": "stream",
          "name": "stdout",
          "text": [
            "MoviePy - Done.\n",
            "Processing drive/My Drive/term project data processing/dataset/wav dataset/clip_11.wav...\n",
            "MoviePy - Writing audio in drive/My Drive/term project data processing/dataset/segment dataset/clip_11/segment_1.wav\n"
          ]
        },
        {
          "output_type": "stream",
          "name": "stderr",
          "text": []
        },
        {
          "output_type": "stream",
          "name": "stdout",
          "text": [
            "MoviePy - Done.\n",
            "MoviePy - Writing audio in drive/My Drive/term project data processing/dataset/segment dataset/clip_11/segment_2.wav\n"
          ]
        },
        {
          "output_type": "stream",
          "name": "stderr",
          "text": []
        },
        {
          "output_type": "stream",
          "name": "stdout",
          "text": [
            "MoviePy - Done.\n",
            "MoviePy - Writing audio in drive/My Drive/term project data processing/dataset/segment dataset/clip_11/segment_3.wav\n"
          ]
        },
        {
          "output_type": "stream",
          "name": "stderr",
          "text": []
        },
        {
          "output_type": "stream",
          "name": "stdout",
          "text": [
            "MoviePy - Done.\n",
            "Processing drive/My Drive/term project data processing/dataset/wav dataset/clip_12.wav...\n",
            "MoviePy - Writing audio in drive/My Drive/term project data processing/dataset/segment dataset/clip_12/segment_1.wav\n"
          ]
        },
        {
          "output_type": "stream",
          "name": "stderr",
          "text": []
        },
        {
          "output_type": "stream",
          "name": "stdout",
          "text": [
            "MoviePy - Done.\n",
            "MoviePy - Writing audio in drive/My Drive/term project data processing/dataset/segment dataset/clip_12/segment_2.wav\n"
          ]
        },
        {
          "output_type": "stream",
          "name": "stderr",
          "text": []
        },
        {
          "output_type": "stream",
          "name": "stdout",
          "text": [
            "MoviePy - Done.\n",
            "MoviePy - Writing audio in drive/My Drive/term project data processing/dataset/segment dataset/clip_12/segment_3.wav\n"
          ]
        },
        {
          "output_type": "stream",
          "name": "stderr",
          "text": []
        },
        {
          "output_type": "stream",
          "name": "stdout",
          "text": [
            "MoviePy - Done.\n",
            "MoviePy - Writing audio in drive/My Drive/term project data processing/dataset/segment dataset/clip_12/segment_4.wav\n"
          ]
        },
        {
          "output_type": "stream",
          "name": "stderr",
          "text": []
        },
        {
          "output_type": "stream",
          "name": "stdout",
          "text": [
            "MoviePy - Done.\n",
            "MoviePy - Writing audio in drive/My Drive/term project data processing/dataset/segment dataset/clip_12/segment_5.wav\n"
          ]
        },
        {
          "output_type": "stream",
          "name": "stderr",
          "text": []
        },
        {
          "output_type": "stream",
          "name": "stdout",
          "text": [
            "MoviePy - Done.\n",
            "Processing drive/My Drive/term project data processing/dataset/wav dataset/clip_13.wav...\n",
            "MoviePy - Writing audio in drive/My Drive/term project data processing/dataset/segment dataset/clip_13/segment_1.wav\n"
          ]
        },
        {
          "output_type": "stream",
          "name": "stderr",
          "text": []
        },
        {
          "output_type": "stream",
          "name": "stdout",
          "text": [
            "MoviePy - Done.\n",
            "MoviePy - Writing audio in drive/My Drive/term project data processing/dataset/segment dataset/clip_13/segment_2.wav\n"
          ]
        },
        {
          "output_type": "stream",
          "name": "stderr",
          "text": []
        },
        {
          "output_type": "stream",
          "name": "stdout",
          "text": [
            "MoviePy - Done.\n",
            "MoviePy - Writing audio in drive/My Drive/term project data processing/dataset/segment dataset/clip_13/segment_3.wav\n"
          ]
        },
        {
          "output_type": "stream",
          "name": "stderr",
          "text": []
        },
        {
          "output_type": "stream",
          "name": "stdout",
          "text": [
            "MoviePy - Done.\n",
            "MoviePy - Writing audio in drive/My Drive/term project data processing/dataset/segment dataset/clip_13/segment_4.wav\n"
          ]
        },
        {
          "output_type": "stream",
          "name": "stderr",
          "text": []
        },
        {
          "output_type": "stream",
          "name": "stdout",
          "text": [
            "MoviePy - Done.\n",
            "MoviePy - Writing audio in drive/My Drive/term project data processing/dataset/segment dataset/clip_13/segment_5.wav\n"
          ]
        },
        {
          "output_type": "stream",
          "name": "stderr",
          "text": []
        },
        {
          "output_type": "stream",
          "name": "stdout",
          "text": [
            "MoviePy - Done.\n",
            "MoviePy - Writing audio in drive/My Drive/term project data processing/dataset/segment dataset/clip_13/segment_6.wav\n"
          ]
        },
        {
          "output_type": "stream",
          "name": "stderr",
          "text": []
        },
        {
          "output_type": "stream",
          "name": "stdout",
          "text": [
            "MoviePy - Done.\n",
            "MoviePy - Writing audio in drive/My Drive/term project data processing/dataset/segment dataset/clip_13/segment_7.wav\n"
          ]
        },
        {
          "output_type": "stream",
          "name": "stderr",
          "text": []
        },
        {
          "output_type": "stream",
          "name": "stdout",
          "text": [
            "MoviePy - Done.\n",
            "MoviePy - Writing audio in drive/My Drive/term project data processing/dataset/segment dataset/clip_13/segment_8.wav\n"
          ]
        },
        {
          "output_type": "stream",
          "name": "stderr",
          "text": []
        },
        {
          "output_type": "stream",
          "name": "stdout",
          "text": [
            "MoviePy - Done.\n",
            "MoviePy - Writing audio in drive/My Drive/term project data processing/dataset/segment dataset/clip_13/segment_9.wav\n"
          ]
        },
        {
          "output_type": "stream",
          "name": "stderr",
          "text": []
        },
        {
          "output_type": "stream",
          "name": "stdout",
          "text": [
            "MoviePy - Done.\n",
            "MoviePy - Writing audio in drive/My Drive/term project data processing/dataset/segment dataset/clip_13/segment_10.wav\n"
          ]
        },
        {
          "output_type": "stream",
          "name": "stderr",
          "text": []
        },
        {
          "output_type": "stream",
          "name": "stdout",
          "text": [
            "MoviePy - Done.\n",
            "MoviePy - Writing audio in drive/My Drive/term project data processing/dataset/segment dataset/clip_13/segment_11.wav\n"
          ]
        },
        {
          "output_type": "stream",
          "name": "stderr",
          "text": [
            "                                                                    "
          ]
        },
        {
          "output_type": "stream",
          "name": "stdout",
          "text": [
            "MoviePy - Done.\n",
            "Processing drive/My Drive/term project data processing/dataset/wav dataset/clip_14.wav...\n"
          ]
        },
        {
          "output_type": "stream",
          "name": "stderr",
          "text": [
            "\r"
          ]
        },
        {
          "output_type": "stream",
          "name": "stdout",
          "text": [
            "MoviePy - Writing audio in drive/My Drive/term project data processing/dataset/segment dataset/clip_14/segment_1.wav\n"
          ]
        },
        {
          "output_type": "stream",
          "name": "stderr",
          "text": []
        },
        {
          "output_type": "stream",
          "name": "stdout",
          "text": [
            "MoviePy - Done.\n",
            "MoviePy - Writing audio in drive/My Drive/term project data processing/dataset/segment dataset/clip_14/segment_2.wav\n"
          ]
        },
        {
          "output_type": "stream",
          "name": "stderr",
          "text": []
        },
        {
          "output_type": "stream",
          "name": "stdout",
          "text": [
            "MoviePy - Done.\n",
            "MoviePy - Writing audio in drive/My Drive/term project data processing/dataset/segment dataset/clip_14/segment_3.wav\n"
          ]
        },
        {
          "output_type": "stream",
          "name": "stderr",
          "text": []
        },
        {
          "output_type": "stream",
          "name": "stdout",
          "text": [
            "MoviePy - Done.\n",
            "MoviePy - Writing audio in drive/My Drive/term project data processing/dataset/segment dataset/clip_14/segment_4.wav\n"
          ]
        },
        {
          "output_type": "stream",
          "name": "stderr",
          "text": []
        },
        {
          "output_type": "stream",
          "name": "stdout",
          "text": [
            "MoviePy - Done.\n",
            "MoviePy - Writing audio in drive/My Drive/term project data processing/dataset/segment dataset/clip_14/segment_5.wav\n"
          ]
        },
        {
          "output_type": "stream",
          "name": "stderr",
          "text": []
        },
        {
          "output_type": "stream",
          "name": "stdout",
          "text": [
            "MoviePy - Done.\n",
            "MoviePy - Writing audio in drive/My Drive/term project data processing/dataset/segment dataset/clip_14/segment_6.wav\n"
          ]
        },
        {
          "output_type": "stream",
          "name": "stderr",
          "text": []
        },
        {
          "output_type": "stream",
          "name": "stdout",
          "text": [
            "MoviePy - Done.\n",
            "MoviePy - Writing audio in drive/My Drive/term project data processing/dataset/segment dataset/clip_14/segment_7.wav\n"
          ]
        },
        {
          "output_type": "stream",
          "name": "stderr",
          "text": []
        },
        {
          "output_type": "stream",
          "name": "stdout",
          "text": [
            "MoviePy - Done.\n",
            "MoviePy - Writing audio in drive/My Drive/term project data processing/dataset/segment dataset/clip_14/segment_8.wav\n"
          ]
        },
        {
          "output_type": "stream",
          "name": "stderr",
          "text": []
        },
        {
          "output_type": "stream",
          "name": "stdout",
          "text": [
            "MoviePy - Done.\n",
            "MoviePy - Writing audio in drive/My Drive/term project data processing/dataset/segment dataset/clip_14/segment_9.wav\n"
          ]
        },
        {
          "output_type": "stream",
          "name": "stderr",
          "text": []
        },
        {
          "output_type": "stream",
          "name": "stdout",
          "text": [
            "MoviePy - Done.\n",
            "MoviePy - Writing audio in drive/My Drive/term project data processing/dataset/segment dataset/clip_14/segment_10.wav\n"
          ]
        },
        {
          "output_type": "stream",
          "name": "stderr",
          "text": []
        },
        {
          "output_type": "stream",
          "name": "stdout",
          "text": [
            "MoviePy - Done.\n",
            "MoviePy - Writing audio in drive/My Drive/term project data processing/dataset/segment dataset/clip_14/segment_11.wav\n"
          ]
        },
        {
          "output_type": "stream",
          "name": "stderr",
          "text": []
        },
        {
          "output_type": "stream",
          "name": "stdout",
          "text": [
            "MoviePy - Done.\n",
            "MoviePy - Writing audio in drive/My Drive/term project data processing/dataset/segment dataset/clip_14/segment_12.wav\n"
          ]
        },
        {
          "output_type": "stream",
          "name": "stderr",
          "text": []
        },
        {
          "output_type": "stream",
          "name": "stdout",
          "text": [
            "MoviePy - Done.\n",
            "MoviePy - Writing audio in drive/My Drive/term project data processing/dataset/segment dataset/clip_14/segment_13.wav\n"
          ]
        },
        {
          "output_type": "stream",
          "name": "stderr",
          "text": []
        },
        {
          "output_type": "stream",
          "name": "stdout",
          "text": [
            "MoviePy - Done.\n",
            "MoviePy - Writing audio in drive/My Drive/term project data processing/dataset/segment dataset/clip_14/segment_14.wav\n"
          ]
        },
        {
          "output_type": "stream",
          "name": "stderr",
          "text": []
        },
        {
          "output_type": "stream",
          "name": "stdout",
          "text": [
            "MoviePy - Done.\n",
            "MoviePy - Writing audio in drive/My Drive/term project data processing/dataset/segment dataset/clip_14/segment_15.wav\n"
          ]
        },
        {
          "output_type": "stream",
          "name": "stderr",
          "text": []
        },
        {
          "output_type": "stream",
          "name": "stdout",
          "text": [
            "MoviePy - Done.\n",
            "MoviePy - Writing audio in drive/My Drive/term project data processing/dataset/segment dataset/clip_14/segment_16.wav\n"
          ]
        },
        {
          "output_type": "stream",
          "name": "stderr",
          "text": []
        },
        {
          "output_type": "stream",
          "name": "stdout",
          "text": [
            "MoviePy - Done.\n",
            "MoviePy - Writing audio in drive/My Drive/term project data processing/dataset/segment dataset/clip_14/segment_17.wav\n"
          ]
        },
        {
          "output_type": "stream",
          "name": "stderr",
          "text": []
        },
        {
          "output_type": "stream",
          "name": "stdout",
          "text": [
            "MoviePy - Done.\n",
            "MoviePy - Writing audio in drive/My Drive/term project data processing/dataset/segment dataset/clip_14/segment_18.wav\n"
          ]
        },
        {
          "output_type": "stream",
          "name": "stderr",
          "text": []
        },
        {
          "output_type": "stream",
          "name": "stdout",
          "text": [
            "MoviePy - Done.\n",
            "MoviePy - Writing audio in drive/My Drive/term project data processing/dataset/segment dataset/clip_14/segment_19.wav\n"
          ]
        },
        {
          "output_type": "stream",
          "name": "stderr",
          "text": []
        },
        {
          "output_type": "stream",
          "name": "stdout",
          "text": [
            "MoviePy - Done.\n",
            "MoviePy - Writing audio in drive/My Drive/term project data processing/dataset/segment dataset/clip_14/segment_20.wav\n"
          ]
        },
        {
          "output_type": "stream",
          "name": "stderr",
          "text": []
        },
        {
          "output_type": "stream",
          "name": "stdout",
          "text": [
            "MoviePy - Done.\n",
            "MoviePy - Writing audio in drive/My Drive/term project data processing/dataset/segment dataset/clip_14/segment_21.wav\n"
          ]
        },
        {
          "output_type": "stream",
          "name": "stderr",
          "text": []
        },
        {
          "output_type": "stream",
          "name": "stdout",
          "text": [
            "MoviePy - Done.\n",
            "MoviePy - Writing audio in drive/My Drive/term project data processing/dataset/segment dataset/clip_14/segment_22.wav\n"
          ]
        },
        {
          "output_type": "stream",
          "name": "stderr",
          "text": []
        },
        {
          "output_type": "stream",
          "name": "stdout",
          "text": [
            "MoviePy - Done.\n",
            "MoviePy - Writing audio in drive/My Drive/term project data processing/dataset/segment dataset/clip_14/segment_23.wav\n"
          ]
        },
        {
          "output_type": "stream",
          "name": "stderr",
          "text": []
        },
        {
          "output_type": "stream",
          "name": "stdout",
          "text": [
            "MoviePy - Done.\n",
            "MoviePy - Writing audio in drive/My Drive/term project data processing/dataset/segment dataset/clip_14/segment_24.wav\n"
          ]
        },
        {
          "output_type": "stream",
          "name": "stderr",
          "text": []
        },
        {
          "output_type": "stream",
          "name": "stdout",
          "text": [
            "MoviePy - Done.\n",
            "Processing drive/My Drive/term project data processing/dataset/wav dataset/clip_15.wav...\n",
            "MoviePy - Writing audio in drive/My Drive/term project data processing/dataset/segment dataset/clip_15/segment_1.wav\n"
          ]
        },
        {
          "output_type": "stream",
          "name": "stderr",
          "text": []
        },
        {
          "output_type": "stream",
          "name": "stdout",
          "text": [
            "MoviePy - Done.\n",
            "MoviePy - Writing audio in drive/My Drive/term project data processing/dataset/segment dataset/clip_15/segment_2.wav\n"
          ]
        },
        {
          "output_type": "stream",
          "name": "stderr",
          "text": []
        },
        {
          "output_type": "stream",
          "name": "stdout",
          "text": [
            "MoviePy - Done.\n",
            "MoviePy - Writing audio in drive/My Drive/term project data processing/dataset/segment dataset/clip_15/segment_3.wav\n"
          ]
        },
        {
          "output_type": "stream",
          "name": "stderr",
          "text": []
        },
        {
          "output_type": "stream",
          "name": "stdout",
          "text": [
            "MoviePy - Done.\n",
            "MoviePy - Writing audio in drive/My Drive/term project data processing/dataset/segment dataset/clip_15/segment_4.wav\n"
          ]
        },
        {
          "output_type": "stream",
          "name": "stderr",
          "text": []
        },
        {
          "output_type": "stream",
          "name": "stdout",
          "text": [
            "MoviePy - Done.\n",
            "MoviePy - Writing audio in drive/My Drive/term project data processing/dataset/segment dataset/clip_15/segment_5.wav\n"
          ]
        },
        {
          "output_type": "stream",
          "name": "stderr",
          "text": []
        },
        {
          "output_type": "stream",
          "name": "stdout",
          "text": [
            "MoviePy - Done.\n",
            "MoviePy - Writing audio in drive/My Drive/term project data processing/dataset/segment dataset/clip_15/segment_6.wav\n"
          ]
        },
        {
          "output_type": "stream",
          "name": "stderr",
          "text": []
        },
        {
          "output_type": "stream",
          "name": "stdout",
          "text": [
            "MoviePy - Done.\n",
            "MoviePy - Writing audio in drive/My Drive/term project data processing/dataset/segment dataset/clip_15/segment_7.wav\n"
          ]
        },
        {
          "output_type": "stream",
          "name": "stderr",
          "text": []
        },
        {
          "output_type": "stream",
          "name": "stdout",
          "text": [
            "MoviePy - Done.\n",
            "MoviePy - Writing audio in drive/My Drive/term project data processing/dataset/segment dataset/clip_15/segment_8.wav\n"
          ]
        },
        {
          "output_type": "stream",
          "name": "stderr",
          "text": []
        },
        {
          "output_type": "stream",
          "name": "stdout",
          "text": [
            "MoviePy - Done.\n",
            "MoviePy - Writing audio in drive/My Drive/term project data processing/dataset/segment dataset/clip_15/segment_9.wav\n"
          ]
        },
        {
          "output_type": "stream",
          "name": "stderr",
          "text": []
        },
        {
          "output_type": "stream",
          "name": "stdout",
          "text": [
            "MoviePy - Done.\n",
            "MoviePy - Writing audio in drive/My Drive/term project data processing/dataset/segment dataset/clip_15/segment_10.wav\n"
          ]
        },
        {
          "output_type": "stream",
          "name": "stderr",
          "text": []
        },
        {
          "output_type": "stream",
          "name": "stdout",
          "text": [
            "MoviePy - Done.\n",
            "MoviePy - Writing audio in drive/My Drive/term project data processing/dataset/segment dataset/clip_15/segment_11.wav\n"
          ]
        },
        {
          "output_type": "stream",
          "name": "stderr",
          "text": []
        },
        {
          "output_type": "stream",
          "name": "stdout",
          "text": [
            "MoviePy - Done.\n",
            "MoviePy - Writing audio in drive/My Drive/term project data processing/dataset/segment dataset/clip_15/segment_12.wav\n"
          ]
        },
        {
          "output_type": "stream",
          "name": "stderr",
          "text": []
        },
        {
          "output_type": "stream",
          "name": "stdout",
          "text": [
            "MoviePy - Done.\n",
            "MoviePy - Writing audio in drive/My Drive/term project data processing/dataset/segment dataset/clip_15/segment_13.wav\n"
          ]
        },
        {
          "output_type": "stream",
          "name": "stderr",
          "text": []
        },
        {
          "output_type": "stream",
          "name": "stdout",
          "text": [
            "MoviePy - Done.\n",
            "MoviePy - Writing audio in drive/My Drive/term project data processing/dataset/segment dataset/clip_15/segment_14.wav\n"
          ]
        },
        {
          "output_type": "stream",
          "name": "stderr",
          "text": []
        },
        {
          "output_type": "stream",
          "name": "stdout",
          "text": [
            "MoviePy - Done.\n",
            "MoviePy - Writing audio in drive/My Drive/term project data processing/dataset/segment dataset/clip_15/segment_15.wav\n"
          ]
        },
        {
          "output_type": "stream",
          "name": "stderr",
          "text": []
        },
        {
          "output_type": "stream",
          "name": "stdout",
          "text": [
            "MoviePy - Done.\n",
            "MoviePy - Writing audio in drive/My Drive/term project data processing/dataset/segment dataset/clip_15/segment_16.wav\n"
          ]
        },
        {
          "output_type": "stream",
          "name": "stderr",
          "text": []
        },
        {
          "output_type": "stream",
          "name": "stdout",
          "text": [
            "MoviePy - Done.\n",
            "MoviePy - Writing audio in drive/My Drive/term project data processing/dataset/segment dataset/clip_15/segment_17.wav\n"
          ]
        },
        {
          "output_type": "stream",
          "name": "stderr",
          "text": []
        },
        {
          "output_type": "stream",
          "name": "stdout",
          "text": [
            "MoviePy - Done.\n",
            "MoviePy - Writing audio in drive/My Drive/term project data processing/dataset/segment dataset/clip_15/segment_18.wav\n"
          ]
        },
        {
          "output_type": "stream",
          "name": "stderr",
          "text": []
        },
        {
          "output_type": "stream",
          "name": "stdout",
          "text": [
            "MoviePy - Done.\n",
            "MoviePy - Writing audio in drive/My Drive/term project data processing/dataset/segment dataset/clip_15/segment_19.wav\n"
          ]
        },
        {
          "output_type": "stream",
          "name": "stderr",
          "text": []
        },
        {
          "output_type": "stream",
          "name": "stdout",
          "text": [
            "MoviePy - Done.\n",
            "MoviePy - Writing audio in drive/My Drive/term project data processing/dataset/segment dataset/clip_15/segment_20.wav\n"
          ]
        },
        {
          "output_type": "stream",
          "name": "stderr",
          "text": []
        },
        {
          "output_type": "stream",
          "name": "stdout",
          "text": [
            "MoviePy - Done.\n",
            "MoviePy - Writing audio in drive/My Drive/term project data processing/dataset/segment dataset/clip_15/segment_21.wav\n"
          ]
        },
        {
          "output_type": "stream",
          "name": "stderr",
          "text": []
        },
        {
          "output_type": "stream",
          "name": "stdout",
          "text": [
            "MoviePy - Done.\n",
            "MoviePy - Writing audio in drive/My Drive/term project data processing/dataset/segment dataset/clip_15/segment_22.wav\n"
          ]
        },
        {
          "output_type": "stream",
          "name": "stderr",
          "text": []
        },
        {
          "output_type": "stream",
          "name": "stdout",
          "text": [
            "MoviePy - Done.\n",
            "MoviePy - Writing audio in drive/My Drive/term project data processing/dataset/segment dataset/clip_15/segment_23.wav\n"
          ]
        },
        {
          "output_type": "stream",
          "name": "stderr",
          "text": []
        },
        {
          "output_type": "stream",
          "name": "stdout",
          "text": [
            "MoviePy - Done.\n",
            "MoviePy - Writing audio in drive/My Drive/term project data processing/dataset/segment dataset/clip_15/segment_24.wav\n"
          ]
        },
        {
          "output_type": "stream",
          "name": "stderr",
          "text": []
        },
        {
          "output_type": "stream",
          "name": "stdout",
          "text": [
            "MoviePy - Done.\n",
            "MoviePy - Writing audio in drive/My Drive/term project data processing/dataset/segment dataset/clip_15/segment_25.wav\n"
          ]
        },
        {
          "output_type": "stream",
          "name": "stderr",
          "text": []
        },
        {
          "output_type": "stream",
          "name": "stdout",
          "text": [
            "MoviePy - Done.\n",
            "MoviePy - Writing audio in drive/My Drive/term project data processing/dataset/segment dataset/clip_15/segment_26.wav\n"
          ]
        },
        {
          "output_type": "stream",
          "name": "stderr",
          "text": []
        },
        {
          "output_type": "stream",
          "name": "stdout",
          "text": [
            "MoviePy - Done.\n",
            "MoviePy - Writing audio in drive/My Drive/term project data processing/dataset/segment dataset/clip_15/segment_27.wav\n"
          ]
        },
        {
          "output_type": "stream",
          "name": "stderr",
          "text": []
        },
        {
          "output_type": "stream",
          "name": "stdout",
          "text": [
            "MoviePy - Done.\n",
            "MoviePy - Writing audio in drive/My Drive/term project data processing/dataset/segment dataset/clip_15/segment_28.wav\n"
          ]
        },
        {
          "output_type": "stream",
          "name": "stderr",
          "text": []
        },
        {
          "output_type": "stream",
          "name": "stdout",
          "text": [
            "MoviePy - Done.\n",
            "MoviePy - Writing audio in drive/My Drive/term project data processing/dataset/segment dataset/clip_15/segment_29.wav\n"
          ]
        },
        {
          "output_type": "stream",
          "name": "stderr",
          "text": [
            "                                                                      "
          ]
        },
        {
          "output_type": "stream",
          "name": "stdout",
          "text": [
            "MoviePy - Done.\n"
          ]
        },
        {
          "output_type": "stream",
          "name": "stderr",
          "text": [
            "\r"
          ]
        }
      ]
    },
    {
      "cell_type": "markdown",
      "source": [
        "**กำจัด noise**"
      ],
      "metadata": {
        "id": "If2JLiFyZ4i-"
      }
    },
    {
      "cell_type": "code",
      "execution_count": null,
      "metadata": {
        "id": "R7xp8fvVZtYi",
        "colab": {
          "base_uri": "https://localhost:8080/"
        },
        "outputId": "43030faa-7402-45b3-fb64-ac1bb37a714a"
      },
      "outputs": [
        {
          "output_type": "stream",
          "name": "stdout",
          "text": [
            "Collecting pedalboard\n",
            "  Downloading pedalboard-0.9.16-cp310-cp310-manylinux_2_17_x86_64.manylinux2014_x86_64.whl.metadata (16 kB)\n",
            "Requirement already satisfied: numpy in /usr/local/lib/python3.10/dist-packages (from pedalboard) (1.26.4)\n",
            "Downloading pedalboard-0.9.16-cp310-cp310-manylinux_2_17_x86_64.manylinux2014_x86_64.whl (7.9 MB)\n",
            "\u001b[?25l   \u001b[90m━━━━━━━━━━━━━━━━━━━━━━━━━━━━━━━━━━━━━━━━\u001b[0m \u001b[32m0.0/7.9 MB\u001b[0m \u001b[31m?\u001b[0m eta \u001b[36m-:--:--\u001b[0m\r\u001b[2K   \u001b[91m━━━━\u001b[0m\u001b[90m╺\u001b[0m\u001b[90m━━━━━━━━━━━━━━━━━━━━━━━━━━━━━━━━━━━\u001b[0m \u001b[32m0.8/7.9 MB\u001b[0m \u001b[31m25.3 MB/s\u001b[0m eta \u001b[36m0:00:01\u001b[0m\r\u001b[2K   \u001b[91m━━━━━━━━━━━━━━━━━━━━━━━━━━━━━━━━━━\u001b[0m\u001b[91m╸\u001b[0m\u001b[90m━━━━━\u001b[0m \u001b[32m6.9/7.9 MB\u001b[0m \u001b[31m99.8 MB/s\u001b[0m eta \u001b[36m0:00:01\u001b[0m\r\u001b[2K   \u001b[91m━━━━━━━━━━━━━━━━━━━━━━━━━━━━━━━━━━━━━━━\u001b[0m\u001b[91m╸\u001b[0m \u001b[32m7.9/7.9 MB\u001b[0m \u001b[31m104.3 MB/s\u001b[0m eta \u001b[36m0:00:01\u001b[0m\r\u001b[2K   \u001b[90m━━━━━━━━━━━━━━━━━━━━━━━━━━━━━━━━━━━━━━━━\u001b[0m \u001b[32m7.9/7.9 MB\u001b[0m \u001b[31m73.7 MB/s\u001b[0m eta \u001b[36m0:00:00\u001b[0m\n",
            "\u001b[?25hInstalling collected packages: pedalboard\n",
            "Successfully installed pedalboard-0.9.16\n"
          ]
        }
      ],
      "source": [
        "!pip install pedalboard"
      ]
    },
    {
      "cell_type": "code",
      "source": [
        "!pip install --upgrade pip"
      ],
      "metadata": {
        "id": "Yfm8xejfaJqu",
        "colab": {
          "base_uri": "https://localhost:8080/"
        },
        "outputId": "f266b1b2-b2f4-4ce2-998e-fc348b0d041f"
      },
      "execution_count": null,
      "outputs": [
        {
          "output_type": "stream",
          "name": "stdout",
          "text": [
            "Requirement already satisfied: pip in /usr/local/lib/python3.10/dist-packages (24.1.2)\n",
            "Collecting pip\n",
            "  Downloading pip-24.3.1-py3-none-any.whl.metadata (3.7 kB)\n",
            "Downloading pip-24.3.1-py3-none-any.whl (1.8 MB)\n",
            "\u001b[2K   \u001b[90m━━━━━━━━━━━━━━━━━━━━━━━━━━━━━━━━━━━━━━━━\u001b[0m \u001b[32m1.8/1.8 MB\u001b[0m \u001b[31m15.7 MB/s\u001b[0m eta \u001b[36m0:00:00\u001b[0m\n",
            "\u001b[?25hInstalling collected packages: pip\n",
            "  Attempting uninstall: pip\n",
            "    Found existing installation: pip 24.1.2\n",
            "    Uninstalling pip-24.1.2:\n",
            "      Successfully uninstalled pip-24.1.2\n",
            "Successfully installed pip-24.3.1\n"
          ]
        }
      ]
    },
    {
      "cell_type": "code",
      "source": [
        "!pip install noisereduce"
      ],
      "metadata": {
        "id": "dGAhUxf1aLUm",
        "colab": {
          "base_uri": "https://localhost:8080/"
        },
        "outputId": "d316d124-1710-4391-ac6d-20c61b272f3f"
      },
      "execution_count": null,
      "outputs": [
        {
          "output_type": "stream",
          "name": "stdout",
          "text": [
            "Collecting noisereduce\n",
            "  Downloading noisereduce-3.0.3-py3-none-any.whl.metadata (14 kB)\n",
            "Requirement already satisfied: scipy in /usr/local/lib/python3.10/dist-packages (from noisereduce) (1.13.1)\n",
            "Requirement already satisfied: matplotlib in /usr/local/lib/python3.10/dist-packages (from noisereduce) (3.8.0)\n",
            "Requirement already satisfied: numpy in /usr/local/lib/python3.10/dist-packages (from noisereduce) (1.26.4)\n",
            "Requirement already satisfied: tqdm in /usr/local/lib/python3.10/dist-packages (from noisereduce) (4.66.6)\n",
            "Requirement already satisfied: joblib in /usr/local/lib/python3.10/dist-packages (from noisereduce) (1.4.2)\n",
            "Requirement already satisfied: contourpy>=1.0.1 in /usr/local/lib/python3.10/dist-packages (from matplotlib->noisereduce) (1.3.1)\n",
            "Requirement already satisfied: cycler>=0.10 in /usr/local/lib/python3.10/dist-packages (from matplotlib->noisereduce) (0.12.1)\n",
            "Requirement already satisfied: fonttools>=4.22.0 in /usr/local/lib/python3.10/dist-packages (from matplotlib->noisereduce) (4.55.0)\n",
            "Requirement already satisfied: kiwisolver>=1.0.1 in /usr/local/lib/python3.10/dist-packages (from matplotlib->noisereduce) (1.4.7)\n",
            "Requirement already satisfied: packaging>=20.0 in /usr/local/lib/python3.10/dist-packages (from matplotlib->noisereduce) (24.2)\n",
            "Requirement already satisfied: pillow>=6.2.0 in /usr/local/lib/python3.10/dist-packages (from matplotlib->noisereduce) (11.0.0)\n",
            "Requirement already satisfied: pyparsing>=2.3.1 in /usr/local/lib/python3.10/dist-packages (from matplotlib->noisereduce) (3.2.0)\n",
            "Requirement already satisfied: python-dateutil>=2.7 in /usr/local/lib/python3.10/dist-packages (from matplotlib->noisereduce) (2.8.2)\n",
            "Requirement already satisfied: six>=1.5 in /usr/local/lib/python3.10/dist-packages (from python-dateutil>=2.7->matplotlib->noisereduce) (1.16.0)\n",
            "Downloading noisereduce-3.0.3-py3-none-any.whl (22 kB)\n",
            "Installing collected packages: noisereduce\n",
            "Successfully installed noisereduce-3.0.3\n"
          ]
        }
      ]
    },
    {
      "cell_type": "code",
      "source": [
        "from pedalboard.io import AudioFile\n",
        "from pedalboard import *\n",
        "import noisereduce as nr\n",
        "import os\n",
        "import glob"
      ],
      "metadata": {
        "id": "8gvST8p5mCHk"
      },
      "execution_count": null,
      "outputs": []
    },
    {
      "cell_type": "code",
      "source": [
        "# ตั้งค่าโฟลเดอร์\n",
        "seg_folder = data_path+\"dataset/segment dataset\"  # โฟลเดอร์ต้นทาง\n",
        "noise_folder = data_path+\"dataset/noise reduce\"  # โฟลเดอร์ปลายทางสำหรับบันทึกผลลัพธ์\n",
        "os.makedirs(output_folder, exist_ok=True)\n",
        "\n",
        "# ตั้งค่าความถี่ตัวอย่าง (sample rate)\n",
        "sr = 44100  # หรือใช้ sample rate ของไฟล์จริง"
      ],
      "metadata": {
        "id": "SH3UEV_YvNjO"
      },
      "execution_count": null,
      "outputs": []
    },
    {
      "cell_type": "code",
      "source": [
        "# วนลูปทุกโฟลเดอร์ย่อยใน segment\n",
        "for subfolder in os.listdir(seg_folder):\n",
        "    subfolder_path = os.path.join(seg_folder, subfolder)\n",
        "    if os.path.isdir(subfolder_path):\n",
        "        output_subfolder_path = os.path.join(noise_folder, subfolder)\n",
        "        os.makedirs(output_subfolder_path, exist_ok=True)\n",
        "\n",
        "        # วนลูปทุกไฟล์ .wav ในโฟลเดอร์ย่อย\n",
        "        for input_file in glob.glob(os.path.join(subfolder_path, '*.wav')):\n",
        "            try:\n",
        "                # อ่านไฟล์เสียง\n",
        "                with AudioFile(input_file).resampled_to(sr) as f:\n",
        "                    audio = f.read(f.frames)\n",
        "\n",
        "                # กำจัด Noise\n",
        "                reduced_noise = nr.reduce_noise(y=audio, sr=sr, stationary=True, prop_decrease=0.75)\n",
        "\n",
        "                # ใส่เอฟเฟกต์เพิ่มเติม\n",
        "                board = Pedalboard([\n",
        "                    NoiseGate(threshold_db=-30, ratio=1.5, release_ms=250),\n",
        "                    Compressor(threshold_db=-16, ratio=2.5),\n",
        "                    LowShelfFilter(cutoff_frequency_hz=400, gain_db=10, q=1),\n",
        "                    Gain(gain_db=10)\n",
        "                ])\n",
        "                effected = board(reduced_noise, sr)\n",
        "\n",
        "                # ตั้งชื่อไฟล์ผลลัพธ์\n",
        "                file_name = os.path.splitext(os.path.basename(input_file))[0]\n",
        "                output_file = os.path.join(output_subfolder_path, f\"{file_name}_enhanced.wav\")\n",
        "\n",
        "                # บันทึกไฟล์ผลลัพธ์\n",
        "                with AudioFile(output_file, 'w', sr, effected.shape[0]) as f:\n",
        "                    f.write(effected)\n",
        "\n",
        "                print(f\"ประมวลผลสำเร็จ: {input_file}\")\n",
        "\n",
        "            except Exception as e:\n",
        "                print(f\"เกิดข้อผิดพลาดในไฟล์ {input_file}: {e}\")"
      ],
      "metadata": {
        "id": "Uca5mlcZvJ6u",
        "colab": {
          "base_uri": "https://localhost:8080/"
        },
        "outputId": "f5ce71b1-8ed8-4100-f9bc-77e6e52526d6"
      },
      "execution_count": null,
      "outputs": [
        {
          "output_type": "stream",
          "name": "stdout",
          "text": [
            "ประมวลผลสำเร็จ: drive/My Drive/term project data processing/dataset/segment dataset/clip_1/segment_1.wav\n",
            "ประมวลผลสำเร็จ: drive/My Drive/term project data processing/dataset/segment dataset/clip_1/segment_2.wav\n",
            "ประมวลผลสำเร็จ: drive/My Drive/term project data processing/dataset/segment dataset/clip_1/segment_3.wav\n",
            "ประมวลผลสำเร็จ: drive/My Drive/term project data processing/dataset/segment dataset/clip_1/segment_4.wav\n",
            "ประมวลผลสำเร็จ: drive/My Drive/term project data processing/dataset/segment dataset/clip_1/segment_5.wav\n",
            "ประมวลผลสำเร็จ: drive/My Drive/term project data processing/dataset/segment dataset/clip_1/segment_6.wav\n",
            "ประมวลผลสำเร็จ: drive/My Drive/term project data processing/dataset/segment dataset/clip_1/segment_7.wav\n",
            "ประมวลผลสำเร็จ: drive/My Drive/term project data processing/dataset/segment dataset/clip_1/segment_8.wav\n",
            "ประมวลผลสำเร็จ: drive/My Drive/term project data processing/dataset/segment dataset/clip_1/segment_9.wav\n",
            "ประมวลผลสำเร็จ: drive/My Drive/term project data processing/dataset/segment dataset/clip_2/segment_1.wav\n",
            "ประมวลผลสำเร็จ: drive/My Drive/term project data processing/dataset/segment dataset/clip_2/segment_2.wav\n",
            "ประมวลผลสำเร็จ: drive/My Drive/term project data processing/dataset/segment dataset/clip_2/segment_3.wav\n",
            "ประมวลผลสำเร็จ: drive/My Drive/term project data processing/dataset/segment dataset/clip_2/segment_4.wav\n",
            "ประมวลผลสำเร็จ: drive/My Drive/term project data processing/dataset/segment dataset/clip_3/segment_1.wav\n",
            "ประมวลผลสำเร็จ: drive/My Drive/term project data processing/dataset/segment dataset/clip_3/segment_2.wav\n",
            "ประมวลผลสำเร็จ: drive/My Drive/term project data processing/dataset/segment dataset/clip_3/segment_3.wav\n",
            "ประมวลผลสำเร็จ: drive/My Drive/term project data processing/dataset/segment dataset/clip_3/segment_4.wav\n",
            "ประมวลผลสำเร็จ: drive/My Drive/term project data processing/dataset/segment dataset/clip_3/segment_5.wav\n",
            "ประมวลผลสำเร็จ: drive/My Drive/term project data processing/dataset/segment dataset/clip_3/segment_6.wav\n",
            "ประมวลผลสำเร็จ: drive/My Drive/term project data processing/dataset/segment dataset/clip_4/segment_1.wav\n",
            "ประมวลผลสำเร็จ: drive/My Drive/term project data processing/dataset/segment dataset/clip_4/segment_2.wav\n",
            "ประมวลผลสำเร็จ: drive/My Drive/term project data processing/dataset/segment dataset/clip_4/segment_3.wav\n",
            "ประมวลผลสำเร็จ: drive/My Drive/term project data processing/dataset/segment dataset/clip_4/segment_4.wav\n",
            "ประมวลผลสำเร็จ: drive/My Drive/term project data processing/dataset/segment dataset/clip_4/segment_5.wav\n",
            "ประมวลผลสำเร็จ: drive/My Drive/term project data processing/dataset/segment dataset/clip_5/segment_1.wav\n",
            "ประมวลผลสำเร็จ: drive/My Drive/term project data processing/dataset/segment dataset/clip_5/segment_2.wav\n",
            "ประมวลผลสำเร็จ: drive/My Drive/term project data processing/dataset/segment dataset/clip_5/segment_3.wav\n",
            "ประมวลผลสำเร็จ: drive/My Drive/term project data processing/dataset/segment dataset/clip_5/segment_4.wav\n",
            "ประมวลผลสำเร็จ: drive/My Drive/term project data processing/dataset/segment dataset/clip_6/segment_1.wav\n",
            "ประมวลผลสำเร็จ: drive/My Drive/term project data processing/dataset/segment dataset/clip_6/segment_2.wav\n",
            "ประมวลผลสำเร็จ: drive/My Drive/term project data processing/dataset/segment dataset/clip_6/segment_3.wav\n",
            "ประมวลผลสำเร็จ: drive/My Drive/term project data processing/dataset/segment dataset/clip_6/segment_4.wav\n",
            "ประมวลผลสำเร็จ: drive/My Drive/term project data processing/dataset/segment dataset/clip_6/segment_5.wav\n",
            "ประมวลผลสำเร็จ: drive/My Drive/term project data processing/dataset/segment dataset/clip_6/segment_6.wav\n",
            "ประมวลผลสำเร็จ: drive/My Drive/term project data processing/dataset/segment dataset/clip_6/segment_7.wav\n",
            "ประมวลผลสำเร็จ: drive/My Drive/term project data processing/dataset/segment dataset/clip_7/segment_1.wav\n",
            "ประมวลผลสำเร็จ: drive/My Drive/term project data processing/dataset/segment dataset/clip_7/segment_2.wav\n",
            "ประมวลผลสำเร็จ: drive/My Drive/term project data processing/dataset/segment dataset/clip_7/segment_3.wav\n",
            "ประมวลผลสำเร็จ: drive/My Drive/term project data processing/dataset/segment dataset/clip_7/segment_4.wav\n",
            "ประมวลผลสำเร็จ: drive/My Drive/term project data processing/dataset/segment dataset/clip_7/segment_5.wav\n",
            "ประมวลผลสำเร็จ: drive/My Drive/term project data processing/dataset/segment dataset/clip_7/segment_6.wav\n",
            "ประมวลผลสำเร็จ: drive/My Drive/term project data processing/dataset/segment dataset/clip_8/segment_1.wav\n",
            "ประมวลผลสำเร็จ: drive/My Drive/term project data processing/dataset/segment dataset/clip_8/segment_2.wav\n",
            "ประมวลผลสำเร็จ: drive/My Drive/term project data processing/dataset/segment dataset/clip_8/segment_3.wav\n",
            "ประมวลผลสำเร็จ: drive/My Drive/term project data processing/dataset/segment dataset/clip_9/segment_1.wav\n",
            "ประมวลผลสำเร็จ: drive/My Drive/term project data processing/dataset/segment dataset/clip_9/segment_2.wav\n",
            "ประมวลผลสำเร็จ: drive/My Drive/term project data processing/dataset/segment dataset/clip_9/segment_3.wav\n",
            "ประมวลผลสำเร็จ: drive/My Drive/term project data processing/dataset/segment dataset/clip_9/segment_4.wav\n",
            "ประมวลผลสำเร็จ: drive/My Drive/term project data processing/dataset/segment dataset/clip_10/segment_1.wav\n",
            "ประมวลผลสำเร็จ: drive/My Drive/term project data processing/dataset/segment dataset/clip_10/segment_2.wav\n",
            "ประมวลผลสำเร็จ: drive/My Drive/term project data processing/dataset/segment dataset/clip_10/segment_3.wav\n",
            "ประมวลผลสำเร็จ: drive/My Drive/term project data processing/dataset/segment dataset/clip_10/segment_4.wav\n",
            "ประมวลผลสำเร็จ: drive/My Drive/term project data processing/dataset/segment dataset/clip_10/segment_5.wav\n",
            "ประมวลผลสำเร็จ: drive/My Drive/term project data processing/dataset/segment dataset/clip_10/segment_6.wav\n",
            "ประมวลผลสำเร็จ: drive/My Drive/term project data processing/dataset/segment dataset/clip_11/segment_1.wav\n",
            "ประมวลผลสำเร็จ: drive/My Drive/term project data processing/dataset/segment dataset/clip_11/segment_2.wav\n",
            "ประมวลผลสำเร็จ: drive/My Drive/term project data processing/dataset/segment dataset/clip_11/segment_3.wav\n",
            "ประมวลผลสำเร็จ: drive/My Drive/term project data processing/dataset/segment dataset/clip_12/segment_1.wav\n",
            "ประมวลผลสำเร็จ: drive/My Drive/term project data processing/dataset/segment dataset/clip_12/segment_2.wav\n",
            "ประมวลผลสำเร็จ: drive/My Drive/term project data processing/dataset/segment dataset/clip_12/segment_3.wav\n",
            "ประมวลผลสำเร็จ: drive/My Drive/term project data processing/dataset/segment dataset/clip_12/segment_4.wav\n",
            "ประมวลผลสำเร็จ: drive/My Drive/term project data processing/dataset/segment dataset/clip_12/segment_5.wav\n",
            "ประมวลผลสำเร็จ: drive/My Drive/term project data processing/dataset/segment dataset/clip_13/segment_1.wav\n",
            "ประมวลผลสำเร็จ: drive/My Drive/term project data processing/dataset/segment dataset/clip_13/segment_2.wav\n",
            "ประมวลผลสำเร็จ: drive/My Drive/term project data processing/dataset/segment dataset/clip_13/segment_3.wav\n",
            "ประมวลผลสำเร็จ: drive/My Drive/term project data processing/dataset/segment dataset/clip_13/segment_4.wav\n",
            "ประมวลผลสำเร็จ: drive/My Drive/term project data processing/dataset/segment dataset/clip_13/segment_5.wav\n",
            "ประมวลผลสำเร็จ: drive/My Drive/term project data processing/dataset/segment dataset/clip_13/segment_6.wav\n",
            "ประมวลผลสำเร็จ: drive/My Drive/term project data processing/dataset/segment dataset/clip_13/segment_7.wav\n",
            "ประมวลผลสำเร็จ: drive/My Drive/term project data processing/dataset/segment dataset/clip_13/segment_8.wav\n",
            "ประมวลผลสำเร็จ: drive/My Drive/term project data processing/dataset/segment dataset/clip_13/segment_9.wav\n",
            "ประมวลผลสำเร็จ: drive/My Drive/term project data processing/dataset/segment dataset/clip_13/segment_10.wav\n",
            "ประมวลผลสำเร็จ: drive/My Drive/term project data processing/dataset/segment dataset/clip_13/segment_11.wav\n",
            "ประมวลผลสำเร็จ: drive/My Drive/term project data processing/dataset/segment dataset/clip_14/segment_1.wav\n",
            "ประมวลผลสำเร็จ: drive/My Drive/term project data processing/dataset/segment dataset/clip_14/segment_2.wav\n",
            "ประมวลผลสำเร็จ: drive/My Drive/term project data processing/dataset/segment dataset/clip_14/segment_3.wav\n",
            "ประมวลผลสำเร็จ: drive/My Drive/term project data processing/dataset/segment dataset/clip_14/segment_4.wav\n",
            "ประมวลผลสำเร็จ: drive/My Drive/term project data processing/dataset/segment dataset/clip_14/segment_5.wav\n",
            "ประมวลผลสำเร็จ: drive/My Drive/term project data processing/dataset/segment dataset/clip_14/segment_6.wav\n",
            "ประมวลผลสำเร็จ: drive/My Drive/term project data processing/dataset/segment dataset/clip_14/segment_7.wav\n",
            "ประมวลผลสำเร็จ: drive/My Drive/term project data processing/dataset/segment dataset/clip_14/segment_8.wav\n",
            "ประมวลผลสำเร็จ: drive/My Drive/term project data processing/dataset/segment dataset/clip_14/segment_9.wav\n",
            "ประมวลผลสำเร็จ: drive/My Drive/term project data processing/dataset/segment dataset/clip_14/segment_10.wav\n",
            "ประมวลผลสำเร็จ: drive/My Drive/term project data processing/dataset/segment dataset/clip_14/segment_11.wav\n",
            "ประมวลผลสำเร็จ: drive/My Drive/term project data processing/dataset/segment dataset/clip_14/segment_12.wav\n",
            "ประมวลผลสำเร็จ: drive/My Drive/term project data processing/dataset/segment dataset/clip_14/segment_13.wav\n",
            "ประมวลผลสำเร็จ: drive/My Drive/term project data processing/dataset/segment dataset/clip_14/segment_14.wav\n",
            "ประมวลผลสำเร็จ: drive/My Drive/term project data processing/dataset/segment dataset/clip_14/segment_15.wav\n",
            "ประมวลผลสำเร็จ: drive/My Drive/term project data processing/dataset/segment dataset/clip_14/segment_16.wav\n",
            "ประมวลผลสำเร็จ: drive/My Drive/term project data processing/dataset/segment dataset/clip_14/segment_17.wav\n",
            "ประมวลผลสำเร็จ: drive/My Drive/term project data processing/dataset/segment dataset/clip_14/segment_18.wav\n",
            "ประมวลผลสำเร็จ: drive/My Drive/term project data processing/dataset/segment dataset/clip_14/segment_19.wav\n",
            "ประมวลผลสำเร็จ: drive/My Drive/term project data processing/dataset/segment dataset/clip_14/segment_20.wav\n",
            "ประมวลผลสำเร็จ: drive/My Drive/term project data processing/dataset/segment dataset/clip_14/segment_21.wav\n",
            "ประมวลผลสำเร็จ: drive/My Drive/term project data processing/dataset/segment dataset/clip_14/segment_22.wav\n",
            "ประมวลผลสำเร็จ: drive/My Drive/term project data processing/dataset/segment dataset/clip_14/segment_23.wav\n",
            "ประมวลผลสำเร็จ: drive/My Drive/term project data processing/dataset/segment dataset/clip_14/segment_24.wav\n",
            "ประมวลผลสำเร็จ: drive/My Drive/term project data processing/dataset/segment dataset/clip_15/segment_1.wav\n",
            "ประมวลผลสำเร็จ: drive/My Drive/term project data processing/dataset/segment dataset/clip_15/segment_2.wav\n",
            "ประมวลผลสำเร็จ: drive/My Drive/term project data processing/dataset/segment dataset/clip_15/segment_3.wav\n",
            "ประมวลผลสำเร็จ: drive/My Drive/term project data processing/dataset/segment dataset/clip_15/segment_4.wav\n",
            "ประมวลผลสำเร็จ: drive/My Drive/term project data processing/dataset/segment dataset/clip_15/segment_5.wav\n",
            "ประมวลผลสำเร็จ: drive/My Drive/term project data processing/dataset/segment dataset/clip_15/segment_6.wav\n",
            "ประมวลผลสำเร็จ: drive/My Drive/term project data processing/dataset/segment dataset/clip_15/segment_7.wav\n",
            "ประมวลผลสำเร็จ: drive/My Drive/term project data processing/dataset/segment dataset/clip_15/segment_8.wav\n",
            "ประมวลผลสำเร็จ: drive/My Drive/term project data processing/dataset/segment dataset/clip_15/segment_9.wav\n",
            "ประมวลผลสำเร็จ: drive/My Drive/term project data processing/dataset/segment dataset/clip_15/segment_10.wav\n",
            "ประมวลผลสำเร็จ: drive/My Drive/term project data processing/dataset/segment dataset/clip_15/segment_11.wav\n",
            "ประมวลผลสำเร็จ: drive/My Drive/term project data processing/dataset/segment dataset/clip_15/segment_12.wav\n",
            "ประมวลผลสำเร็จ: drive/My Drive/term project data processing/dataset/segment dataset/clip_15/segment_13.wav\n",
            "ประมวลผลสำเร็จ: drive/My Drive/term project data processing/dataset/segment dataset/clip_15/segment_14.wav\n",
            "ประมวลผลสำเร็จ: drive/My Drive/term project data processing/dataset/segment dataset/clip_15/segment_15.wav\n",
            "ประมวลผลสำเร็จ: drive/My Drive/term project data processing/dataset/segment dataset/clip_15/segment_16.wav\n",
            "ประมวลผลสำเร็จ: drive/My Drive/term project data processing/dataset/segment dataset/clip_15/segment_17.wav\n",
            "ประมวลผลสำเร็จ: drive/My Drive/term project data processing/dataset/segment dataset/clip_15/segment_18.wav\n",
            "ประมวลผลสำเร็จ: drive/My Drive/term project data processing/dataset/segment dataset/clip_15/segment_19.wav\n",
            "ประมวลผลสำเร็จ: drive/My Drive/term project data processing/dataset/segment dataset/clip_15/segment_20.wav\n",
            "ประมวลผลสำเร็จ: drive/My Drive/term project data processing/dataset/segment dataset/clip_15/segment_21.wav\n",
            "ประมวลผลสำเร็จ: drive/My Drive/term project data processing/dataset/segment dataset/clip_15/segment_22.wav\n",
            "ประมวลผลสำเร็จ: drive/My Drive/term project data processing/dataset/segment dataset/clip_15/segment_23.wav\n",
            "ประมวลผลสำเร็จ: drive/My Drive/term project data processing/dataset/segment dataset/clip_15/segment_24.wav\n",
            "ประมวลผลสำเร็จ: drive/My Drive/term project data processing/dataset/segment dataset/clip_15/segment_25.wav\n",
            "ประมวลผลสำเร็จ: drive/My Drive/term project data processing/dataset/segment dataset/clip_15/segment_26.wav\n",
            "ประมวลผลสำเร็จ: drive/My Drive/term project data processing/dataset/segment dataset/clip_15/segment_27.wav\n",
            "ประมวลผลสำเร็จ: drive/My Drive/term project data processing/dataset/segment dataset/clip_15/segment_28.wav\n",
            "ประมวลผลสำเร็จ: drive/My Drive/term project data processing/dataset/segment dataset/clip_15/segment_29.wav\n"
          ]
        }
      ]
    },
    {
      "cell_type": "markdown",
      "source": [
        "**แปลงเสียงเป็นข้อความ**"
      ],
      "metadata": {
        "id": "-AbziTmTamcM"
      }
    },
    {
      "cell_type": "code",
      "source": [
        "!pip install whisper-openai"
      ],
      "metadata": {
        "id": "2DwpzlR3aXfz",
        "colab": {
          "base_uri": "https://localhost:8080/"
        },
        "outputId": "73d0cd6d-5df2-402f-f22e-8826ea150f91"
      },
      "execution_count": null,
      "outputs": [
        {
          "output_type": "stream",
          "name": "stdout",
          "text": [
            "Collecting whisper-openai\n",
            "  Downloading whisper_openai-1.0.0-py3-none-any.whl.metadata (480 bytes)\n",
            "Requirement already satisfied: numpy in /usr/local/lib/python3.10/dist-packages (from whisper-openai) (1.26.4)\n",
            "Requirement already satisfied: torch in /usr/local/lib/python3.10/dist-packages (from whisper-openai) (2.5.1+cu121)\n",
            "Requirement already satisfied: tqdm in /usr/local/lib/python3.10/dist-packages (from whisper-openai) (4.66.6)\n",
            "Requirement already satisfied: more-itertools in /usr/local/lib/python3.10/dist-packages (from whisper-openai) (10.5.0)\n",
            "Requirement already satisfied: transformers>=4.19.0 in /usr/local/lib/python3.10/dist-packages (from whisper-openai) (4.46.2)\n",
            "Collecting ffmpeg-python==0.2.0 (from whisper-openai)\n",
            "  Downloading ffmpeg_python-0.2.0-py3-none-any.whl.metadata (1.7 kB)\n",
            "Requirement already satisfied: future in /usr/local/lib/python3.10/dist-packages (from ffmpeg-python==0.2.0->whisper-openai) (1.0.0)\n",
            "Requirement already satisfied: filelock in /usr/local/lib/python3.10/dist-packages (from transformers>=4.19.0->whisper-openai) (3.16.1)\n",
            "Requirement already satisfied: huggingface-hub<1.0,>=0.23.2 in /usr/local/lib/python3.10/dist-packages (from transformers>=4.19.0->whisper-openai) (0.26.2)\n",
            "Requirement already satisfied: packaging>=20.0 in /usr/local/lib/python3.10/dist-packages (from transformers>=4.19.0->whisper-openai) (24.2)\n",
            "Requirement already satisfied: pyyaml>=5.1 in /usr/local/lib/python3.10/dist-packages (from transformers>=4.19.0->whisper-openai) (6.0.2)\n",
            "Requirement already satisfied: regex!=2019.12.17 in /usr/local/lib/python3.10/dist-packages (from transformers>=4.19.0->whisper-openai) (2024.9.11)\n",
            "Requirement already satisfied: requests in /usr/local/lib/python3.10/dist-packages (from transformers>=4.19.0->whisper-openai) (2.32.3)\n",
            "Requirement already satisfied: safetensors>=0.4.1 in /usr/local/lib/python3.10/dist-packages (from transformers>=4.19.0->whisper-openai) (0.4.5)\n",
            "Requirement already satisfied: tokenizers<0.21,>=0.20 in /usr/local/lib/python3.10/dist-packages (from transformers>=4.19.0->whisper-openai) (0.20.3)\n",
            "Requirement already satisfied: typing-extensions>=4.8.0 in /usr/local/lib/python3.10/dist-packages (from torch->whisper-openai) (4.12.2)\n",
            "Requirement already satisfied: networkx in /usr/local/lib/python3.10/dist-packages (from torch->whisper-openai) (3.4.2)\n",
            "Requirement already satisfied: jinja2 in /usr/local/lib/python3.10/dist-packages (from torch->whisper-openai) (3.1.4)\n",
            "Requirement already satisfied: fsspec in /usr/local/lib/python3.10/dist-packages (from torch->whisper-openai) (2024.10.0)\n",
            "Requirement already satisfied: sympy==1.13.1 in /usr/local/lib/python3.10/dist-packages (from torch->whisper-openai) (1.13.1)\n",
            "Requirement already satisfied: mpmath<1.4,>=1.1.0 in /usr/local/lib/python3.10/dist-packages (from sympy==1.13.1->torch->whisper-openai) (1.3.0)\n",
            "Requirement already satisfied: MarkupSafe>=2.0 in /usr/local/lib/python3.10/dist-packages (from jinja2->torch->whisper-openai) (3.0.2)\n",
            "Requirement already satisfied: charset-normalizer<4,>=2 in /usr/local/lib/python3.10/dist-packages (from requests->transformers>=4.19.0->whisper-openai) (3.4.0)\n",
            "Requirement already satisfied: idna<4,>=2.5 in /usr/local/lib/python3.10/dist-packages (from requests->transformers>=4.19.0->whisper-openai) (3.10)\n",
            "Requirement already satisfied: urllib3<3,>=1.21.1 in /usr/local/lib/python3.10/dist-packages (from requests->transformers>=4.19.0->whisper-openai) (2.2.3)\n",
            "Requirement already satisfied: certifi>=2017.4.17 in /usr/local/lib/python3.10/dist-packages (from requests->transformers>=4.19.0->whisper-openai) (2024.8.30)\n",
            "Downloading whisper_openai-1.0.0-py3-none-any.whl (1.2 MB)\n",
            "\u001b[2K   \u001b[90m━━━━━━━━━━━━━━━━━━━━━━━━━━━━━━━━━━━━━━━━\u001b[0m \u001b[32m1.2/1.2 MB\u001b[0m \u001b[31m48.2 MB/s\u001b[0m eta \u001b[36m0:00:00\u001b[0m\n",
            "\u001b[?25hDownloading ffmpeg_python-0.2.0-py3-none-any.whl (25 kB)\n",
            "Installing collected packages: ffmpeg-python, whisper-openai\n",
            "Successfully installed ffmpeg-python-0.2.0 whisper-openai-1.0.0\n"
          ]
        }
      ]
    },
    {
      "cell_type": "code",
      "source": [
        "import os\n",
        "import whisper\n",
        "\n",
        "# ตั้งค่าโฟลเดอร์ต้นทางและปลายทาง\n",
        "noise1_folder = data_path+\"dataset/noise reduce\"  # โฟลเดอร์ต้นทาง\n",
        "text_folder = data_path+\"dataset/text translation\" # โฟลเดอร์ปลายทางสำหรับเก็บข้อความ\n",
        "os.makedirs(text_folder, exist_ok=True)\n",
        "\n",
        "# โหลดโมเดล Whisper\n",
        "model = whisper.load_model(\"large\")\n",
        "\n",
        "# วนลูปผ่านแต่ละโฟลเดอร์ย่อยในโฟลเดอร์ต้นทาง\n",
        "for subfolder in os.listdir(noise1_folder):\n",
        "    subfolder_path = os.path.join(noise1_folder, subfolder)\n",
        "    if os.path.isdir(subfolder_path):\n",
        "        # สร้างไฟล์ .txt สำหรับโฟลเดอร์ย่อย\n",
        "        transcription_file = os.path.join(text_folder, f\"{subfolder}.txt\")\n",
        "\n",
        "        with open(transcription_file, \"w\", encoding=\"utf-8\") as txt_file:\n",
        "            # วนลูปผ่านไฟล์ .wav ในโฟลเดอร์ย่อย\n",
        "            for audio_file in os.listdir(subfolder_path):\n",
        "                if audio_file.endswith(\".wav\"):\n",
        "                    audio_path = os.path.join(subfolder_path, audio_file)\n",
        "\n",
        "                    try:\n",
        "                        print(f\"กำลังถอดเสียงจากไฟล์: {audio_file}\")\n",
        "                        # ถอดเสียงจากไฟล์\n",
        "                        result = model.transcribe(audio_path, language=\"th\")\n",
        "                        # เขียนข้อความที่ถอดได้ลงในไฟล์ .txt\n",
        "                        txt_file.write(f\"[{audio_file}]\\n\")\n",
        "                        txt_file.write(result['text'] + \"\\n\\n\")\n",
        "                        print(f\"ถอดเสียงสำเร็จ: {audio_file}\")\n",
        "                    except Exception as e:\n",
        "                        print(f\"เกิดข้อผิดพลาดกับไฟล์ {audio_file}: {e}\")\n"
      ],
      "metadata": {
        "id": "pq3dxIlgb6z_"
      },
      "execution_count": null,
      "outputs": []
    },
    {
      "cell_type": "markdown",
      "source": [
        "**ซ่อมคำ**"
      ],
      "metadata": {
        "id": "B6AJ_-_TARHv"
      }
    },
    {
      "cell_type": "code",
      "source": [
        "pip install pythainlp"
      ],
      "metadata": {
        "id": "kwgONTWjAQJo",
        "colab": {
          "base_uri": "https://localhost:8080/"
        },
        "outputId": "e15a7cf9-f8a6-43bf-abc6-34732672d190"
      },
      "execution_count": 1,
      "outputs": [
        {
          "output_type": "stream",
          "name": "stdout",
          "text": [
            "Collecting pythainlp\n",
            "  Downloading pythainlp-5.0.4-py3-none-any.whl.metadata (7.7 kB)\n",
            "Requirement already satisfied: requests>=2.22.0 in /usr/local/lib/python3.10/dist-packages (from pythainlp) (2.32.3)\n",
            "Requirement already satisfied: charset-normalizer<4,>=2 in /usr/local/lib/python3.10/dist-packages (from requests>=2.22.0->pythainlp) (3.4.0)\n",
            "Requirement already satisfied: idna<4,>=2.5 in /usr/local/lib/python3.10/dist-packages (from requests>=2.22.0->pythainlp) (3.10)\n",
            "Requirement already satisfied: urllib3<3,>=1.21.1 in /usr/local/lib/python3.10/dist-packages (from requests>=2.22.0->pythainlp) (2.2.3)\n",
            "Requirement already satisfied: certifi>=2017.4.17 in /usr/local/lib/python3.10/dist-packages (from requests>=2.22.0->pythainlp) (2024.8.30)\n",
            "Downloading pythainlp-5.0.4-py3-none-any.whl (17.9 MB)\n",
            "\u001b[2K   \u001b[90m━━━━━━━━━━━━━━━━━━━━━━━━━━━━━━━━━━━━━━━━\u001b[0m \u001b[32m17.9/17.9 MB\u001b[0m \u001b[31m38.7 MB/s\u001b[0m eta \u001b[36m0:00:00\u001b[0m\n",
            "\u001b[?25hInstalling collected packages: pythainlp\n",
            "Successfully installed pythainlp-5.0.4\n"
          ]
        }
      ]
    },
    {
      "cell_type": "code",
      "source": [
        "from pythainlp.spell import spell\n",
        "\n",
        "word = \"ออบรม\"\n",
        "\n",
        "corrected = spell(word)\n",
        "print(corrected)  # ผลลัพธ์: สนใจ"
      ],
      "metadata": {
        "colab": {
          "base_uri": "https://localhost:8080/"
        },
        "id": "nNXbqGtAc0vC",
        "outputId": "9e4fa4de-6723-40c2-9548-5ae345b9f4c2"
      },
      "execution_count": 2,
      "outputs": [
        {
          "output_type": "stream",
          "name": "stdout",
          "text": [
            "['อบรม']\n"
          ]
        }
      ]
    },
    {
      "cell_type": "code",
      "source": [
        "pip install thaispellcheck"
      ],
      "metadata": {
        "colab": {
          "base_uri": "https://localhost:8080/"
        },
        "id": "d1XuSJ9vc1XO",
        "outputId": "c5a929cc-a716-4ec0-d07d-a6109ee3f7b7"
      },
      "execution_count": 3,
      "outputs": [
        {
          "output_type": "stream",
          "name": "stdout",
          "text": [
            "Collecting thaispellcheck\n",
            "  Downloading thaispellcheck-0.2-py3-none-any.whl.metadata (1.9 kB)\n",
            "Requirement already satisfied: pythainlp>=3.1 in /usr/local/lib/python3.10/dist-packages (from thaispellcheck) (5.0.4)\n",
            "Collecting sklearn-crfsuite (from thaispellcheck)\n",
            "  Downloading sklearn_crfsuite-0.5.0-py2.py3-none-any.whl.metadata (4.9 kB)\n",
            "Requirement already satisfied: requests>=2.22.0 in /usr/local/lib/python3.10/dist-packages (from pythainlp>=3.1->thaispellcheck) (2.32.3)\n",
            "Collecting python-crfsuite>=0.9.7 (from sklearn-crfsuite->thaispellcheck)\n",
            "  Downloading python_crfsuite-0.9.11-cp310-cp310-manylinux_2_17_x86_64.manylinux2014_x86_64.whl.metadata (4.3 kB)\n",
            "Requirement already satisfied: scikit-learn>=0.24.0 in /usr/local/lib/python3.10/dist-packages (from sklearn-crfsuite->thaispellcheck) (1.5.2)\n",
            "Requirement already satisfied: tabulate>=0.4.2 in /usr/local/lib/python3.10/dist-packages (from sklearn-crfsuite->thaispellcheck) (0.9.0)\n",
            "Requirement already satisfied: tqdm>=2.0 in /usr/local/lib/python3.10/dist-packages (from sklearn-crfsuite->thaispellcheck) (4.66.6)\n",
            "Requirement already satisfied: charset-normalizer<4,>=2 in /usr/local/lib/python3.10/dist-packages (from requests>=2.22.0->pythainlp>=3.1->thaispellcheck) (3.4.0)\n",
            "Requirement already satisfied: idna<4,>=2.5 in /usr/local/lib/python3.10/dist-packages (from requests>=2.22.0->pythainlp>=3.1->thaispellcheck) (3.10)\n",
            "Requirement already satisfied: urllib3<3,>=1.21.1 in /usr/local/lib/python3.10/dist-packages (from requests>=2.22.0->pythainlp>=3.1->thaispellcheck) (2.2.3)\n",
            "Requirement already satisfied: certifi>=2017.4.17 in /usr/local/lib/python3.10/dist-packages (from requests>=2.22.0->pythainlp>=3.1->thaispellcheck) (2024.8.30)\n",
            "Requirement already satisfied: numpy>=1.19.5 in /usr/local/lib/python3.10/dist-packages (from scikit-learn>=0.24.0->sklearn-crfsuite->thaispellcheck) (1.26.4)\n",
            "Requirement already satisfied: scipy>=1.6.0 in /usr/local/lib/python3.10/dist-packages (from scikit-learn>=0.24.0->sklearn-crfsuite->thaispellcheck) (1.13.1)\n",
            "Requirement already satisfied: joblib>=1.2.0 in /usr/local/lib/python3.10/dist-packages (from scikit-learn>=0.24.0->sklearn-crfsuite->thaispellcheck) (1.4.2)\n",
            "Requirement already satisfied: threadpoolctl>=3.1.0 in /usr/local/lib/python3.10/dist-packages (from scikit-learn>=0.24.0->sklearn-crfsuite->thaispellcheck) (3.5.0)\n",
            "Downloading thaispellcheck-0.2-py3-none-any.whl (235 kB)\n",
            "\u001b[2K   \u001b[90m━━━━━━━━━━━━━━━━━━━━━━━━━━━━━━━━━━━━━━━━\u001b[0m \u001b[32m235.6/235.6 kB\u001b[0m \u001b[31m5.5 MB/s\u001b[0m eta \u001b[36m0:00:00\u001b[0m\n",
            "\u001b[?25hDownloading sklearn_crfsuite-0.5.0-py2.py3-none-any.whl (10 kB)\n",
            "Downloading python_crfsuite-0.9.11-cp310-cp310-manylinux_2_17_x86_64.manylinux2014_x86_64.whl (1.2 MB)\n",
            "\u001b[2K   \u001b[90m━━━━━━━━━━━━━━━━━━━━━━━━━━━━━━━━━━━━━━━━\u001b[0m \u001b[32m1.2/1.2 MB\u001b[0m \u001b[31m40.1 MB/s\u001b[0m eta \u001b[36m0:00:00\u001b[0m\n",
            "\u001b[?25hInstalling collected packages: python-crfsuite, sklearn-crfsuite, thaispellcheck\n",
            "Successfully installed python-crfsuite-0.9.11 sklearn-crfsuite-0.5.0 thaispellcheck-0.2\n"
          ]
        }
      ]
    },
    {
      "cell_type": "code",
      "source": [
        "import thaispellcheck\n",
        "print(thaispellcheck.check(\"นากเรียน\",autocorrect=True))"
      ],
      "metadata": {
        "colab": {
          "base_uri": "https://localhost:8080/"
        },
        "id": "QBH35tjMdEhj",
        "outputId": "d67700b9-e03a-416a-beda-b5559981447e"
      },
      "execution_count": 4,
      "outputs": [
        {
          "output_type": "stream",
          "name": "stdout",
          "text": [
            "นากเรียน\n"
          ]
        }
      ]
    },
    {
      "cell_type": "code",
      "source": [
        "!pip install requests xmltodict"
      ],
      "metadata": {
        "colab": {
          "base_uri": "https://localhost:8080/"
        },
        "id": "AURVWtbQdG-h",
        "outputId": "bd6bda4e-d76b-4d63-9899-9fedf8edceed"
      },
      "execution_count": 5,
      "outputs": [
        {
          "output_type": "stream",
          "name": "stdout",
          "text": [
            "Requirement already satisfied: requests in /usr/local/lib/python3.10/dist-packages (2.32.3)\n",
            "Collecting xmltodict\n",
            "  Downloading xmltodict-0.14.2-py2.py3-none-any.whl.metadata (8.0 kB)\n",
            "Requirement already satisfied: charset-normalizer<4,>=2 in /usr/local/lib/python3.10/dist-packages (from requests) (3.4.0)\n",
            "Requirement already satisfied: idna<4,>=2.5 in /usr/local/lib/python3.10/dist-packages (from requests) (3.10)\n",
            "Requirement already satisfied: urllib3<3,>=1.21.1 in /usr/local/lib/python3.10/dist-packages (from requests) (2.2.3)\n",
            "Requirement already satisfied: certifi>=2017.4.17 in /usr/local/lib/python3.10/dist-packages (from requests) (2024.8.30)\n",
            "Downloading xmltodict-0.14.2-py2.py3-none-any.whl (10.0 kB)\n",
            "Installing collected packages: xmltodict\n",
            "Successfully installed xmltodict-0.14.2\n"
          ]
        }
      ]
    },
    {
      "cell_type": "code",
      "source": [
        "import requests\n",
        "import xmltodict\n",
        "\n",
        "word = \"ประวิสัญชนี\"  # คำที่ต้องการตรวจสอบ\n",
        "a = f\"https://www.google.com/complete/search?output=toolbar&q={word}\"\n",
        "sentword = requests.get(a)  # ดึงข้อมูล\n",
        "\n",
        "data = xmltodict.parse(sentword.text)  # แปลง xml เป็น OrderedDict\n",
        "\n",
        "try:\n",
        "    print(data['toplevel']['CompleteSuggestion']['suggestion']['@data'])\n",
        "except:\n",
        "    for a in data['toplevel']['CompleteSuggestion']:\n",
        "        try:\n",
        "            print(a['suggestion']['@data'])\n",
        "        except:\n",
        "            break\n"
      ],
      "metadata": {
        "id": "qodhwe_pdPov"
      },
      "execution_count": null,
      "outputs": []
    },
    {
      "cell_type": "markdown",
      "source": [
        "**สรุปข้อความ**"
      ],
      "metadata": {
        "id": "ySfErA6KavYn"
      }
    },
    {
      "cell_type": "code",
      "source": [
        "pip install nltk"
      ],
      "metadata": {
        "id": "QYEIwOMZa_Pa"
      },
      "execution_count": null,
      "outputs": []
    },
    {
      "cell_type": "code",
      "source": [
        "pip install python-docx"
      ],
      "metadata": {
        "id": "MIcvHniRdgdX"
      },
      "execution_count": null,
      "outputs": []
    },
    {
      "cell_type": "code",
      "source": [
        "pip install transformers sentencepiece"
      ],
      "metadata": {
        "id": "KS_CMXQjdh2m"
      },
      "execution_count": null,
      "outputs": []
    },
    {
      "cell_type": "code",
      "source": [
        "pip install rouge"
      ],
      "metadata": {
        "id": "ylB9tMahdjOC"
      },
      "execution_count": null,
      "outputs": []
    },
    {
      "cell_type": "code",
      "source": [
        "pip install pythainlp"
      ],
      "metadata": {
        "id": "BrBiNlAedlQR"
      },
      "execution_count": null,
      "outputs": []
    },
    {
      "cell_type": "code",
      "source": [
        "import nltk\n",
        "import numpy as np\n",
        "import networkx as nx\n",
        "import pandas as pd\n",
        "import docx\n",
        "from docx.enum.text import WD_COLOR_INDEX\n",
        "from nltk.cluster.util import cosine_distance\n",
        "from transformers import AutoTokenizer, AutoModel\n",
        "from pythainlp.tokenize import word_tokenize\n",
        "import os\n",
        "from rouge import Rouge\n",
        "import sys\n",
        "sys.setrecursionlimit(10000)  # หรือปรับตัวเลขตามที่เหมาะสม"
      ],
      "metadata": {
        "id": "Ej6ZS0SWdmui"
      },
      "execution_count": null,
      "outputs": []
    },
    {
      "cell_type": "code",
      "source": [
        "model_name = \"airesearch/wangchanberta-base-att-spm-uncased\"\n",
        "model = AutoModel.from_pretrained(model_name)"
      ],
      "metadata": {
        "id": "uepKoYDRdocH"
      },
      "execution_count": null,
      "outputs": []
    },
    {
      "cell_type": "code",
      "source": [
        "tokenizer = AutoTokenizer.from_pretrained(model_name)"
      ],
      "metadata": {
        "id": "Y_MmJ3l1dqiP"
      },
      "execution_count": null,
      "outputs": []
    },
    {
      "cell_type": "code",
      "source": [
        "def highlight_sentences(text, sum_list):\n",
        "    doc = docx.Document()\n",
        "    doc.add_heading('Summarized Text', 0)\n",
        "    para = doc.add_paragraph('')\n",
        "    sentences = text.split('\\n')\n",
        "    for st in sentences:\n",
        "        if any(keyword in st for keyword in sum_list):\n",
        "            para.add_run(st + '\\n').font.highlight_color = WD_COLOR_INDEX.YELLOW\n",
        "        else:\n",
        "            para.add_run(st + '\\n')\n",
        "    return doc"
      ],
      "metadata": {
        "id": "PYj1ffvGdr4c"
      },
      "execution_count": null,
      "outputs": []
    },
    {
      "cell_type": "code",
      "source": [
        "def process_file(file_name):\n",
        "    try:\n",
        "        with open(file_name, 'r', encoding='utf-8') as file:\n",
        "            corpus = file.read().splitlines()\n",
        "\n",
        "        sentences = [s.strip() for s in corpus]\n",
        "        sentence_size = len(sentences)\n",
        "        if sentence_size == 0:\n",
        "            print(f\"File {file_name} is empty or contains no valid sentences.\")\n",
        "            return []\n",
        "\n",
        "        # Tokenize and encode sentences\n",
        "        sentences_tokens = [tokenizer(s, return_tensors=\"pt\") for s in sentences]\n",
        "        sentences_encode = [model(**token) for token in sentences_tokens]\n",
        "        sentences_vec = [np.squeeze(vec[1].detach().numpy()) for vec in sentences_encode]\n",
        "\n",
        "        # Build sentence similarity matrix\n",
        "        def build_similarity_matrix(sentences):\n",
        "            similarity_matrix = np.zeros((len(sentences), len(sentences)))\n",
        "            for idx1 in range(len(sentences)):\n",
        "                for idx2 in range(len(sentences)):\n",
        "                    if idx1 == idx2:\n",
        "                        continue\n",
        "                    similarity_matrix[idx1][idx2] = sentence_similarity(sentences[idx1], sentences[idx2])\n",
        "            return similarity_matrix\n",
        "\n",
        "        def sentence_similarity(sent1, sent2):\n",
        "            return 1 - cosine_distance(sent1, sent2)\n",
        "\n",
        "        sentence_similarity_matrix = build_similarity_matrix(sentences_vec)\n",
        "        sentence_similarity_graph = nx.from_numpy_array(sentence_similarity_matrix)\n",
        "        scores = nx.pagerank(sentence_similarity_graph)\n",
        "\n",
        "        # Rank sentences by score\n",
        "        ranked_sentence = sorted(((scores[i], s) for i, s in enumerate(sentences)), reverse=True)\n",
        "        top_n = round(sentence_size * 0.2)\n",
        "        sum_list = [ranked_sentence[i][1] for i in range(top_n)]\n",
        "\n",
        "        # Highlight sentences in a Word document\n",
        "        doc = highlight_sentences('\\n'.join(sentences), sum_list)\n",
        "        output_file = f\"{os.path.splitext(file_name)[0]}_highlighted.docx\"\n",
        "        doc.save(output_file)\n",
        "        print(f\"Processed and saved: {output_file}\")\n",
        "        return sum_list\n",
        "    except FileNotFoundError:\n",
        "        print(f\"File not found: {file_name}\")\n",
        "        return []\n",
        "    except Exception as e:\n",
        "        print(f\"Error processing {file_name}: {e}\")\n",
        "        return []"
      ],
      "metadata": {
        "id": "KLQvwfJzdtOi"
      },
      "execution_count": null,
      "outputs": []
    },
    {
      "cell_type": "code",
      "source": [
        "highlighted_file = 'clip_13.txt'\n",
        "sum_list = process_file(highlighted_file)"
      ],
      "metadata": {
        "id": "u32u9t1WdvB1"
      },
      "execution_count": null,
      "outputs": []
    },
    {
      "cell_type": "code",
      "source": [
        "human_summaries = [f\"clip_13_{i}.txt\" for i in range(1, 5)]"
      ],
      "metadata": {
        "id": "FomD6DJAdwuM"
      },
      "execution_count": null,
      "outputs": []
    },
    {
      "cell_type": "code",
      "source": [
        "def tokenizer(st_list):\n",
        "    words = []\n",
        "    for s in st_list:\n",
        "        w = word_tokenize(s)\n",
        "        w = [temp for temp in w if temp != ' ']\n",
        "        if w != []:\n",
        "            words.append(' '.join(w).lower())\n",
        "    return words"
      ],
      "metadata": {
        "id": "EU_kI2ZvdyGh"
      },
      "execution_count": null,
      "outputs": []
    },
    {
      "cell_type": "code",
      "source": [
        "def evaluate_summary(y_test, predicted):\n",
        "    rouge = Rouge()\n",
        "    scores = rouge.get_scores(y_test, predicted, avg=True)\n",
        "    score_1 = round(scores['rouge-1']['f'], 2)\n",
        "    score_2 = round(scores['rouge-2']['f'], 2)\n",
        "    score_L = round(scores['rouge-l']['f'], 2)\n",
        "    print('Rouge1:', score_1)\n",
        "    print('Rouge2:', score_2)\n",
        "    print('RougeL:', score_L)\n",
        "    print('Avg Rouge:', round(np.mean([score_1, score_2, score_L]), 2))\n"
      ],
      "metadata": {
        "id": "4o7VAOIidzRO"
      },
      "execution_count": null,
      "outputs": []
    },
    {
      "cell_type": "code",
      "source": [
        "for human_summarie_file in human_summaries:\n",
        "    try:\n",
        "        with open(human_summarie_file, 'r', encoding='utf-8') as file:\n",
        "            human_summarie = file.read().splitlines()\n",
        "\n",
        "        # Tokenize the human summary and the highlighted sentences\n",
        "        human_summarie_word = tokenizer(human_summarie)\n",
        "        sum_list_word = tokenizer(sum_list)\n",
        "\n",
        "        # Convert lists to string for ROUGE comparison\n",
        "        test = ' '.join(human_summarie_word)  # Human summary\n",
        "        predicted = ' '.join(sum_list_word)  # Program summary\n",
        "\n",
        "        # Print for verification\n",
        "        print(f\"\\nComparing with {human_summarie_file}...\")\n",
        "        print(\"Test (Human summary):\", test)\n",
        "        print(\"Predicted (Highlighted summary):\", predicted)\n",
        "\n",
        "        # Calculate ROUGE score\n",
        "        evaluate_summary(test, predicted)\n",
        "\n",
        "    except FileNotFoundError:\n",
        "        print(f\"File not found: {human_summarie_file}\")\n",
        "    except Exception as e:\n",
        "        print(f\"Error processing {human_summarie_file}: {e}\")"
      ],
      "metadata": {
        "id": "_6nZZgKtd1HX"
      },
      "execution_count": null,
      "outputs": []
    },
    {
      "cell_type": "code",
      "source": [
        "a = {\"Rouge1\": 0.69, \"Rouge2\": 0.56, \"RougeL\": 0.58, \"Avg Rouge\": 0.61}\n",
        "b = {\"Rouge1\": 0.67, \"Rouge2\": 0.53, \"RougeL\": 0.61, \"Avg Rouge\": 0.6}\n",
        "c = {\"Rouge1\": 0.66, \"Rouge2\": 0.54, \"RougeL\": 0.54, \"Avg Rouge\": 0.58}\n",
        "d = {\"Rouge1\": 0.39, \"Rouge2\": 0.12, \"RougeL\": 0.22, \"Avg Rouge\": 0.24}"
      ],
      "metadata": {
        "id": "B7DM8HP6d2sD"
      },
      "execution_count": null,
      "outputs": []
    },
    {
      "cell_type": "code",
      "source": [
        "results = [a, b, c, d]"
      ],
      "metadata": {
        "id": "cKeeVj_Ad4mC"
      },
      "execution_count": null,
      "outputs": []
    },
    {
      "cell_type": "code",
      "source": [
        "avg_rouge1 = sum([result[\"Rouge1\"] for result in results]) / len(results)\n",
        "avg_rouge2 = sum([result[\"Rouge2\"] for result in results]) / len(results)\n",
        "avg_rougeL = sum([result[\"RougeL\"] for result in results]) / len(results)\n",
        "avg_rouge = sum([result[\"Avg Rouge\"] for result in results]) / len(results)\n",
        "\n",
        "print(f\"ค่าเฉลี่ยของ Rouge1 จากการทดสอบ 4 ชุดคือ: {avg_rouge1}\")\n",
        "print(f\"ค่าเฉลี่ยของ Rouge2 จากการทดสอบ 4 ชุดคือ: {avg_rouge2}\")\n",
        "print(f\"ค่าเฉลี่ยของ RougeL จากการทดสอบ 4 ชุดคือ: {avg_rougeL}\")\n",
        "print(f\"ค่าเฉลี่ยของ Avg Rouge จากการทดสอบ 4 ชุดคือ: {avg_rouge}\")"
      ],
      "metadata": {
        "id": "VVNqZJajd55c"
      },
      "execution_count": null,
      "outputs": []
    },
    {
      "cell_type": "code",
      "source": [
        "clip_1 = {\"Rouge1\": 0.6025, \"Rouge2\": 0.4375, \"RougeL\": 0.4875, \"Avg Rouge\": 0.5075}\n",
        "clip_2 = {\"Rouge1\": 0.56, \"Rouge2\": 0.3875, \"RougeL\": 0.315, \"Avg Rouge\": 0.4225}\n",
        "clip_3 = {\"Rouge1\": 0.645, \"Rouge2\": 0.385, \"RougeL\": 0.4675, \"Avg Rouge\": 0.4975}\n",
        "clip_5 = {\"Rouge1\": 0.47, \"Rouge2\": 0.2345, \"RougeL\": 0.2475, \"Avg Rouge\": 0.32}\n",
        "clip_6 = {\"Rouge1\": 0.53, \"Rouge2\": 0.2925, \"RougeL\": 0.37, \"Avg Rouge\": 0.3975}\n",
        "clip_7 = {\"Rouge1\": 0.5, \"Rouge2\": 0.33, \"RougeL\": 0.205, \"Avg Rouge\": 0.345}\n",
        "clip_9 = {\"Rouge1\": 0.5925, \"Rouge2\": 0.455, \"RougeL\": 0.36, \"Avg Rouge\": 0.47}\n",
        "clip_10 = {\"Rouge1\": 0.61, \"Rouge2\": 0.375, \"RougeL\": 0.325, \"Avg Rouge\": 0.4375}\n",
        "clip_12 = {\"Rouge1\": 0.455, \"Rouge2\": 0.31, \"RougeL\": 0.3775, \"Avg Rouge\": 0.38}\n",
        "clip_13 = {\"Rouge1\": 0.5175, \"Rouge2\": 0.37, \"RougeL\": 0.3325, \"Avg Rouge\": 0.43}"
      ],
      "metadata": {
        "id": "U-jV_sZNd8dW"
      },
      "execution_count": null,
      "outputs": []
    },
    {
      "cell_type": "code",
      "source": [
        "results = [clip_1, clip_2, clip_3, clip_5, clip_6, clip_7, clip_9, clip_10, clip_12, clip_13]"
      ],
      "metadata": {
        "id": "_cg5po9-d9GZ"
      },
      "execution_count": null,
      "outputs": []
    },
    {
      "cell_type": "code",
      "source": [
        "avg_rouge1 = sum([result[\"Rouge1\"] for result in results]) / len(results)\n",
        "avg_rouge2 = sum([result[\"Rouge2\"] for result in results]) / len(results)\n",
        "avg_rougeL = sum([result[\"RougeL\"] for result in results]) / len(results)\n",
        "avg_rouge = sum([result[\"Avg Rouge\"] for result in results]) / len(results)\n",
        "\n",
        "print(f\"ค่าเฉลี่ยของ Rouge1 จากการทดสอบ 10 ชุดคือ: {avg_rouge1}\")\n",
        "print(f\"ค่าเฉลี่ยของ Rouge2 จากการทดสอบ 10 ชุดคือ: {avg_rouge2}\")\n",
        "print(f\"ค่าเฉลี่ยของ RougeL จากการทดสอบ 10 ชุดคือ: {avg_rougeL}\")\n",
        "print(f\"ค่าเฉลี่ยของ Avg Rouge จากการทดสอบ 10 ชุดคือ: {avg_rouge}\")"
      ],
      "metadata": {
        "id": "W9s1ypdxd-ih"
      },
      "execution_count": null,
      "outputs": []
    }
  ]
}